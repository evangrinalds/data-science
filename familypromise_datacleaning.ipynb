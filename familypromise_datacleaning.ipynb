{
  "nbformat": 4,
  "nbformat_minor": 0,
  "metadata": {
    "colab": {
      "name": "Copy of EG_Best_Model",
      "provenance": [],
      "include_colab_link": true
    },
    "kernelspec": {
      "name": "python3",
      "display_name": "Python 3"
    }
  },
  "cells": [
    {
      "cell_type": "markdown",
      "metadata": {
        "id": "view-in-github",
        "colab_type": "text"
      },
      "source": [
        "<a href=\"https://colab.research.google.com/github/evangrinalds/data-science/blob/main/familypromise_datacleaning.ipynb\" target=\"_parent\"><img src=\"https://colab.research.google.com/assets/colab-badge.svg\" alt=\"Open In Colab\"/></a>"
      ]
    },
    {
      "cell_type": "markdown",
      "metadata": {
        "id": "LKWHKOHMjlzn"
      },
      "source": [
        "#### Clean/Prepare Data\n",
        "\n"
      ]
    },
    {
      "cell_type": "code",
      "metadata": {
        "id": "MQu0p_Imjg2b",
        "colab": {
          "base_uri": "https://localhost:8080/",
          "height": 272
        },
        "outputId": "a412640a-1014-4b47-c043-8d2bb22fd1d6"
      },
      "source": [
        "import pandas as pd\n",
        "df = pd.read_csv('https://raw.githubusercontent.com/JayAdamo/FamilyPromise/master/DAM_July28_2020_redacted.csv')\n",
        "\n",
        "!pip install category_encoders==2.*"
      ],
      "execution_count": null,
      "outputs": [
        {
          "output_type": "stream",
          "text": [
            "Collecting category_encoders==2.*\n",
            "\u001b[?25l  Downloading https://files.pythonhosted.org/packages/44/57/fcef41c248701ee62e8325026b90c432adea35555cbc870aff9cfba23727/category_encoders-2.2.2-py2.py3-none-any.whl (80kB)\n",
            "\r\u001b[K     |████                            | 10kB 15.5MB/s eta 0:00:01\r\u001b[K     |████████▏                       | 20kB 2.8MB/s eta 0:00:01\r\u001b[K     |████████████▏                   | 30kB 3.4MB/s eta 0:00:01\r\u001b[K     |████████████████▎               | 40kB 3.9MB/s eta 0:00:01\r\u001b[K     |████████████████████▎           | 51kB 3.2MB/s eta 0:00:01\r\u001b[K     |████████████████████████▍       | 61kB 3.7MB/s eta 0:00:01\r\u001b[K     |████████████████████████████▍   | 71kB 3.8MB/s eta 0:00:01\r\u001b[K     |████████████████████████████████| 81kB 3.1MB/s \n",
            "\u001b[?25hRequirement already satisfied: numpy>=1.14.0 in /usr/local/lib/python3.6/dist-packages (from category_encoders==2.*) (1.18.5)\n",
            "Requirement already satisfied: scipy>=1.0.0 in /usr/local/lib/python3.6/dist-packages (from category_encoders==2.*) (1.4.1)\n",
            "Requirement already satisfied: statsmodels>=0.9.0 in /usr/local/lib/python3.6/dist-packages (from category_encoders==2.*) (0.10.2)\n",
            "Requirement already satisfied: scikit-learn>=0.20.0 in /usr/local/lib/python3.6/dist-packages (from category_encoders==2.*) (0.22.2.post1)\n",
            "Requirement already satisfied: patsy>=0.5.1 in /usr/local/lib/python3.6/dist-packages (from category_encoders==2.*) (0.5.1)\n",
            "Requirement already satisfied: pandas>=0.21.1 in /usr/local/lib/python3.6/dist-packages (from category_encoders==2.*) (1.1.2)\n",
            "Requirement already satisfied: joblib>=0.11 in /usr/local/lib/python3.6/dist-packages (from scikit-learn>=0.20.0->category_encoders==2.*) (0.16.0)\n",
            "Requirement already satisfied: six in /usr/local/lib/python3.6/dist-packages (from patsy>=0.5.1->category_encoders==2.*) (1.15.0)\n",
            "Requirement already satisfied: pytz>=2017.2 in /usr/local/lib/python3.6/dist-packages (from pandas>=0.21.1->category_encoders==2.*) (2018.9)\n",
            "Requirement already satisfied: python-dateutil>=2.7.3 in /usr/local/lib/python3.6/dist-packages (from pandas>=0.21.1->category_encoders==2.*) (2.8.1)\n",
            "Installing collected packages: category-encoders\n",
            "Successfully installed category-encoders-2.2.2\n"
          ],
          "name": "stdout"
        }
      ]
    },
    {
      "cell_type": "code",
      "metadata": {
        "id": "8P_qqhZLjkVE",
        "colab": {
          "base_uri": "https://localhost:8080/",
          "height": 432
        },
        "outputId": "5b848846-82bf-42d8-c362-f958919a34bb"
      },
      "source": [
        "df.head(2)"
      ],
      "execution_count": null,
      "outputs": [
        {
          "output_type": "execute_result",
          "data": {
            "text/html": [
              "<div>\n",
              "<style scoped>\n",
              "    .dataframe tbody tr th:only-of-type {\n",
              "        vertical-align: middle;\n",
              "    }\n",
              "\n",
              "    .dataframe tbody tr th {\n",
              "        vertical-align: top;\n",
              "    }\n",
              "\n",
              "    .dataframe thead th {\n",
              "        text-align: right;\n",
              "    }\n",
              "</style>\n",
              "<table border=\"1\" class=\"dataframe\">\n",
              "  <thead>\n",
              "    <tr style=\"text-align: right;\">\n",
              "      <th></th>\n",
              "      <th>2.1 Organization Name</th>\n",
              "      <th>2.2 Project Name</th>\n",
              "      <th>2.4 ProjectType</th>\n",
              "      <th>2.5 Utilization Tracking Method (Invalid)</th>\n",
              "      <th>2.6 Federal Grant Programs</th>\n",
              "      <th>Enrollment Created By</th>\n",
              "      <th>5.8 Personal ID</th>\n",
              "      <th>5.9 Household ID</th>\n",
              "      <th>3.15 Relationship to HoH</th>\n",
              "      <th>3.16 Client Location</th>\n",
              "      <th>CaseMembers</th>\n",
              "      <th>3.10 Enroll Date</th>\n",
              "      <th>3.11 Exit Date</th>\n",
              "      <th>3.12 Exit Destination</th>\n",
              "      <th>3.2 Social Security Quality</th>\n",
              "      <th>3.3 Birthdate</th>\n",
              "      <th>3.3 Birthdate Quality</th>\n",
              "      <th>Age at Enrollment</th>\n",
              "      <th>Current Age</th>\n",
              "      <th>3.4 Race</th>\n",
              "      <th>3.5 Ethnicity</th>\n",
              "      <th>3.6 Gender</th>\n",
              "      <th>3.7 Veteran Status</th>\n",
              "      <th>3.8 Disabling Condition at Entry</th>\n",
              "      <th>3.917 Living Situation</th>\n",
              "      <th>3.917b Stayed Less Than 7 Nights</th>\n",
              "      <th>3.917 Stayed Less Than 90 Days</th>\n",
              "      <th>3.917b Stayed in Streets, ES or SH Night Before</th>\n",
              "      <th>3.917 Length of Stay</th>\n",
              "      <th>3.917 Homeless Start Date</th>\n",
              "      <th>Length of Time Homeless (3.917 Approximate Start)</th>\n",
              "      <th>3.917 Times Homeless Last 3 Years</th>\n",
              "      <th>3.917 Total Months Homeless Last 3 Years</th>\n",
              "      <th>V5 Last Permanent Address</th>\n",
              "      <th>V5 State</th>\n",
              "      <th>V5 Zip</th>\n",
              "      <th>Municipality (City or County)</th>\n",
              "      <th>Days Enrolled in Project</th>\n",
              "      <th>RRH In Permanent Housing</th>\n",
              "      <th>RRH Date Of Move-In</th>\n",
              "      <th>...</th>\n",
              "      <th>4.09 Mental Health Problem</th>\n",
              "      <th>4.05 Physical Disability</th>\n",
              "      <th>CaseChildren</th>\n",
              "      <th>CaseAdults</th>\n",
              "      <th>Bed Nights During Report Period</th>\n",
              "      <th>Count of Bed Nights - Entire Episode</th>\n",
              "      <th>HEN-HP Referral Most Recent</th>\n",
              "      <th>HEN-RRH Referral Most Recent</th>\n",
              "      <th>WorkSource Referral Most Recent</th>\n",
              "      <th>YAHP Referral Most Recent</th>\n",
              "      <th>4.04.10 Other Public</th>\n",
              "      <th>4.04.10 State Funded</th>\n",
              "      <th>4.04.11 Indian Health Services (IHS)</th>\n",
              "      <th>4.04.12 Other</th>\n",
              "      <th>4.04.3 Combined Childrens HealthInsurance/Medicaid</th>\n",
              "      <th>4.04.3 Medicaid</th>\n",
              "      <th>4.04.4 Medicare</th>\n",
              "      <th>4.04.5 State Children's health Insurance S-CHIP</th>\n",
              "      <th>4.04.6 Veteran's Administration Medical Services</th>\n",
              "      <th>4.04.8 Health Insurance obtained through COBRA</th>\n",
              "      <th>4.04.7 Private - Employer</th>\n",
              "      <th>4.04.9 Private</th>\n",
              "      <th>4.04.9 Private - Individual</th>\n",
              "      <th>4.2.3a Earned Income</th>\n",
              "      <th>4.2.4b Unemployment Insurance</th>\n",
              "      <th>4.2.5c Supplemental Security Income</th>\n",
              "      <th>4.2.6d Social Security Disability  Income</th>\n",
              "      <th>4.2.7e VA Disability Compensation</th>\n",
              "      <th>4.2.8f VA Disability Pension</th>\n",
              "      <th>4.2.9g Private Disability Income</th>\n",
              "      <th>4.2.10h Workers Compensation</th>\n",
              "      <th>4.2.11i TANF</th>\n",
              "      <th>4.2.12j General Assistance</th>\n",
              "      <th>4.2.13k Retirement (Social Security)</th>\n",
              "      <th>4.2.14l Pension from a Former Job</th>\n",
              "      <th>4.2.15m Child Support</th>\n",
              "      <th>4.2.16n Alimony</th>\n",
              "      <th>4.2.17o Other Income</th>\n",
              "      <th>Chronic Homeless Status_vHMISDatAssessment</th>\n",
              "      <th>Chronic Homeless Status_EvaluatevHMIS&amp;HMISDA</th>\n",
              "    </tr>\n",
              "  </thead>\n",
              "  <tbody>\n",
              "    <tr>\n",
              "      <th>0</th>\n",
              "      <td>Family Promise of Spokane</td>\n",
              "      <td>FPS--ES--Bridges Family Shelter</td>\n",
              "      <td>Emergency shelter</td>\n",
              "      <td>Entry/Exit (e/e)</td>\n",
              "      <td>NaN</td>\n",
              "      <td>Lynnetta Lewis</td>\n",
              "      <td>56550</td>\n",
              "      <td>92775</td>\n",
              "      <td>Son</td>\n",
              "      <td>NaN</td>\n",
              "      <td>6</td>\n",
              "      <td>9/10/2017 12:00 AM</td>\n",
              "      <td>1/8/2018 12:00 AM</td>\n",
              "      <td>No exit interview completed</td>\n",
              "      <td>Client Refused</td>\n",
              "      <td>1/1/2013 12:00 AM</td>\n",
              "      <td>Full DOB Reported</td>\n",
              "      <td>4</td>\n",
              "      <td>7</td>\n",
              "      <td>White</td>\n",
              "      <td>Non-Hispanic/Latino</td>\n",
              "      <td>Male</td>\n",
              "      <td>NaN</td>\n",
              "      <td>No</td>\n",
              "      <td>NaN</td>\n",
              "      <td>NaN</td>\n",
              "      <td>NaN</td>\n",
              "      <td>NaN</td>\n",
              "      <td>NaN</td>\n",
              "      <td>NaN</td>\n",
              "      <td>NaN</td>\n",
              "      <td>NaN</td>\n",
              "      <td>NaN</td>\n",
              "      <td>NaN</td>\n",
              "      <td>NaN</td>\n",
              "      <td>NaN</td>\n",
              "      <td>NaN</td>\n",
              "      <td>120</td>\n",
              "      <td>NaN</td>\n",
              "      <td>NaN</td>\n",
              "      <td>...</td>\n",
              "      <td>NaN</td>\n",
              "      <td>NaN</td>\n",
              "      <td>4</td>\n",
              "      <td>2</td>\n",
              "      <td>NaN</td>\n",
              "      <td>NaN</td>\n",
              "      <td>NaN</td>\n",
              "      <td>NaN</td>\n",
              "      <td>NaN</td>\n",
              "      <td>NaN</td>\n",
              "      <td>No</td>\n",
              "      <td>Yes</td>\n",
              "      <td>No</td>\n",
              "      <td>No</td>\n",
              "      <td>No</td>\n",
              "      <td>No</td>\n",
              "      <td>No</td>\n",
              "      <td>No</td>\n",
              "      <td>No</td>\n",
              "      <td>No</td>\n",
              "      <td>No</td>\n",
              "      <td>No</td>\n",
              "      <td>No</td>\n",
              "      <td>0.0</td>\n",
              "      <td>0</td>\n",
              "      <td>0.0</td>\n",
              "      <td>0</td>\n",
              "      <td>0</td>\n",
              "      <td>0</td>\n",
              "      <td>0</td>\n",
              "      <td>0</td>\n",
              "      <td>0</td>\n",
              "      <td>0</td>\n",
              "      <td>0</td>\n",
              "      <td>0</td>\n",
              "      <td>0.0</td>\n",
              "      <td>0</td>\n",
              "      <td>0</td>\n",
              "      <td>0</td>\n",
              "      <td>0</td>\n",
              "    </tr>\n",
              "    <tr>\n",
              "      <th>1</th>\n",
              "      <td>Family Promise of Spokane</td>\n",
              "      <td>FPS--ES--Bridges Family Shelter</td>\n",
              "      <td>Emergency shelter</td>\n",
              "      <td>Entry/Exit (e/e)</td>\n",
              "      <td>NaN</td>\n",
              "      <td>Lynnetta Lewis</td>\n",
              "      <td>36138</td>\n",
              "      <td>92775</td>\n",
              "      <td>Self</td>\n",
              "      <td>Spokane City &amp; County CoC</td>\n",
              "      <td>6</td>\n",
              "      <td>9/10/2017 12:00 AM</td>\n",
              "      <td>1/8/2018 12:00 AM</td>\n",
              "      <td>No exit interview completed</td>\n",
              "      <td>Full SSN</td>\n",
              "      <td>11/13/1988 12:00 AM</td>\n",
              "      <td>Full DOB Reported</td>\n",
              "      <td>28</td>\n",
              "      <td>31</td>\n",
              "      <td>White</td>\n",
              "      <td>Non-Hispanic/Latino</td>\n",
              "      <td>Male</td>\n",
              "      <td>No</td>\n",
              "      <td>Missing</td>\n",
              "      <td>Hotel or motel paid for without emergency shel...</td>\n",
              "      <td>NaN</td>\n",
              "      <td>NaN</td>\n",
              "      <td>NaN</td>\n",
              "      <td>One month or more, but less than 90 days</td>\n",
              "      <td>11/1/2014 12:00 AM</td>\n",
              "      <td>1164.0</td>\n",
              "      <td>Three times</td>\n",
              "      <td>More than 12 months</td>\n",
              "      <td>Data not collected</td>\n",
              "      <td>NaN</td>\n",
              "      <td>NaN</td>\n",
              "      <td>NaN</td>\n",
              "      <td>120</td>\n",
              "      <td>NaN</td>\n",
              "      <td>NaN</td>\n",
              "      <td>...</td>\n",
              "      <td>NaN</td>\n",
              "      <td>NaN</td>\n",
              "      <td>4</td>\n",
              "      <td>2</td>\n",
              "      <td>NaN</td>\n",
              "      <td>NaN</td>\n",
              "      <td>NaN</td>\n",
              "      <td>NaN</td>\n",
              "      <td>NaN</td>\n",
              "      <td>NaN</td>\n",
              "      <td>No</td>\n",
              "      <td>Yes</td>\n",
              "      <td>No</td>\n",
              "      <td>No</td>\n",
              "      <td>No</td>\n",
              "      <td>No</td>\n",
              "      <td>No</td>\n",
              "      <td>No</td>\n",
              "      <td>No</td>\n",
              "      <td>No</td>\n",
              "      <td>No</td>\n",
              "      <td>No</td>\n",
              "      <td>No</td>\n",
              "      <td>1300.0</td>\n",
              "      <td>0</td>\n",
              "      <td>0.0</td>\n",
              "      <td>0</td>\n",
              "      <td>0</td>\n",
              "      <td>0</td>\n",
              "      <td>0</td>\n",
              "      <td>0</td>\n",
              "      <td>0</td>\n",
              "      <td>0</td>\n",
              "      <td>0</td>\n",
              "      <td>0</td>\n",
              "      <td>0.0</td>\n",
              "      <td>0</td>\n",
              "      <td>0</td>\n",
              "      <td>0</td>\n",
              "      <td>0</td>\n",
              "    </tr>\n",
              "  </tbody>\n",
              "</table>\n",
              "<p>2 rows × 145 columns</p>\n",
              "</div>"
            ],
            "text/plain": [
              "       2.1 Organization Name  ... Chronic Homeless Status_EvaluatevHMIS&HMISDA\n",
              "0  Family Promise of Spokane  ...                                            0\n",
              "1  Family Promise of Spokane  ...                                            0\n",
              "\n",
              "[2 rows x 145 columns]"
            ]
          },
          "metadata": {
            "tags": []
          },
          "execution_count": 2
        }
      ]
    },
    {
      "cell_type": "code",
      "metadata": {
        "id": "-G4QR546JPsT"
      },
      "source": [
        "# Renaming column headers for easier access/readability\n",
        "\n",
        "df = df.rename(columns={'2.1 Organization Name':'org_name',\n",
        "                        '2.2 Project Name':'project_name',\n",
        "                        '2.4 ProjectType':'project_type',\n",
        "                        '2.5 Utilization Tracking Method (Invalid)':'util_track_method',\n",
        "                        '2.6 Federal Grant Programs':'fed_grant_programs',\n",
        "                        'Enrollment Created By':'enrollment_created_by',\n",
        "                        '3.1 FirstName':'first_name','3.1 LastName':'last_name',\n",
        "                        '5.8 Personal ID':'personal_id','5.9 Household ID':'case_id',\n",
        "                        '3.15 Relationship to HoH':'relationship_to_HoH',\n",
        "                        '3.16 Client Location':'client_location','CaseMembers':'case_members',\n",
        "                        '3.10 Enroll Date':'enroll_date','3.11 Exit Date':'exit_date',\n",
        "                        '3.12 Exit Destination':'exit_destination','3.2 SocSecNo':'ssn',\n",
        "                        '3.2 Social Security Quality':'ssn_quality','3.3 Birthdate':'dob',\n",
        "                        '3.3 Birthdate Quality':'dob_quality','Age at Enrollment':'age_at_enrollment',\n",
        "                        'Current Age':'current_age','3.4 Race':'race','3.5 Ethnicity':'ethnicity',\n",
        "                        '3.6 Gender':'gender','3.7 Veteran Status':'vet_status',\n",
        "                        '3.8 Disabling Condition at Entry':'disabling_cond_at_entry',\n",
        "                        '3.917 Living Situation':'living_situation',\n",
        "                        '3.917b Stayed Less Than 7 Nights':'stayed_7_or_less',\n",
        "                        '3.917 Stayed Less Than 90 Days':'stayed_90_or_less',\n",
        "                        '3.917b Stayed in Streets, ES or SH Night Before':'stayed_street_ES_or_SH_night_before',\n",
        "                        '3.917 Length of Stay':'length_of_stay',\n",
        "                        '3.917 Homeless Start Date':'homeless_start_date',\n",
        "                        'Length of Time Homeless (3.917 Approximate Start)':'length_of_time_homeless',\n",
        "                        '3.917 Times Homeless Last 3 Years':'times_homeless_last_3years',\n",
        "                        '3.917 Total Months Homeless Last 3 Years':'total_months_homeless',\n",
        "                        'V5 Last Permanent Address':'last_perm_address',\n",
        "                        'V5 Prior Address':'prior_address','V5 State':'state',\n",
        "                        'V5 Zip':'zip','Municipality (City or County)':'municipality',\n",
        "                        'Days Enrolled in Project':'days_enrolled_in_project',\n",
        "                        'RRH In Permanent Housing':'rrh_in_perm_housing',\n",
        "                        'RRH Date Of Move-In':'rrh_date_of_move-in',\n",
        "                        'Days Enrolled Until RRH Date of Move-in':'days_enrolled_until_rrh_movein',\n",
        "                        '4.1 Housing Status':'housing_status',\n",
        "                        '4.4 Covered by Health Insurance':'covered_by_health_insurance',\n",
        "                        '4.11 Domestic Violence':'domestic_violence',\n",
        "                        '4.11 Domestic Violence - Currently Fleeing DV?':'currently_fleeing',\n",
        "                        '4.11 Domestic Violence - When it Occurred':'when_dv_occured',\n",
        "                        '4.13 Engagement Date':'engagement_date',\n",
        "                        'Days Enrolled Until Engagement Date':'days_enrolled_until_engaged',\n",
        "                        '4.24 Current Status (Retired Data Element)':'current_status',\n",
        "                        '4.24 In School (Retired Data Element)':'in_school',\n",
        "                        '4.24 Connected to McKinney Vento Liason (Retired)':'connected_to_MVento',\n",
        "                        'Household Type':'household_type',\n",
        "                        'Latitude':'latitude','Longitude':'longitude',\n",
        "                        'R1 Referral Source':'referal_source',\n",
        "                        'R2 Date Status Determined':'date_status_determined',\n",
        "                        'R2 Enroll Status':'enroll_status',\n",
        "                        'R2 Runaway Youth':'runaway_youth',\n",
        "                        'R2 Reason Why No Services Funded':'reason_why_no_services_funded',\n",
        "                        'R3 Sexual Orientation':'sexual_orientation',\n",
        "                        'R4 Last Grade Completed':'last_grade_completed',\n",
        "                        'R5 School Status':'school_status',\n",
        "                        'R6 Employed Status':'employed_status',\n",
        "                        'R6 Why Not Employed':'reason_not_employed',\n",
        "                        'R6 Type of Employment':'type_of_employment',\n",
        "                        'R6 Looking for Work':'looking_for_work',\n",
        "                        'R7 General Health Status':'general_health_status',\n",
        "                        'R8 Dental Health Status':'dental_health_status',\n",
        "                        'R9 Mental Health Status':'mental_health_status',\n",
        "                        'R10 Pregnancy Status':'pregnancy_status',\n",
        "                        'R10 Pregnancy Due Date':'pregnancy_due_date',\n",
        "                        'Client Record Restricted':'client_record_restricted',\n",
        "                        'InfoReleaseNo':'infoReleaseNo',\n",
        "                        'Information Release Status':'info_release_status',\n",
        "                        '4.12 Contact Services':'contact_services',\n",
        "                        'Date of Last Contact (Beta)':'date_of_last_contact',\n",
        "                        'Date of First Contact (Beta)':'date_of_first_contact',\n",
        "                        'Count of Bed Nights (Housing Check-ins)':'housing_checkins',\n",
        "                        'Date of Last ES Stay (Beta)':'date_of_last_stay',\n",
        "                        'Date of First ES Stay (Beta)':'date_of_first_stay',\n",
        "                        '4.2 Income Total at Entry':'income_at_entry',\n",
        "                        '4.02 Total Income at Annual Update':'income_at_update',\n",
        "                        '4.2 Income Total at Exit':'income_at_exit',\n",
        "                        '4.3 Non-Cash Benefit Count':'non-cash_benefit_count',\n",
        "                        '4.3 Non-Cash Benefit Count at Exit':'non-cash_count_at_exit',\n",
        "                        'CurrentDate':'current_date',\n",
        "                        'Barrier Count at Entry':'barrier_count_at_entry',\n",
        "                        'Chronic Homeless Status':'chronic_homeless_status',\n",
        "                        'ProgramType':'program_type',\n",
        "                        'SOAR Eligibility Determination (Most Recent)':'soar_eligibility',\n",
        "                        'SOAR Enrollment Determination (Most Recent)':'soar_enrollment',\n",
        "                        'RRH | Most Recent Enrollment':'most_recent_rrh',\n",
        "                        'Street Outreach | Most Recent Enrollment':'most_recent_street_outreach',\n",
        "                        'Coordinated Entry | Most Recent Enrollment':'most_recent_CE',\n",
        "                        'Emergency Shelter | Most Recent Enrollment':'most_recent_ES',\n",
        "                        'Transitional Housing | Most Recent Enrollment':'most_recent_trans',\n",
        "                        'PSH | Most Recent Enrollment':'most_recent_PSH',\n",
        "                        'Prevention | Most Recent Enrollment':'most_recent_prevention',\n",
        "                        'Under 25 Years Old':'under_25',\n",
        "                        'ClientID':'client_id',\n",
        "                        '4.10 Alcohol Abuse (Substance Abuse)':'alcohol_abuse',\n",
        "                        '4.07 Chronic Health Condition':'chronic_health_condition',\n",
        "                        '4.06 Developmental Disability':'developmental_disability',\n",
        "                        '4.10 Drug Abuse (Substance Abuse)':'substance_abuse',\n",
        "                        '4.08 HIV/AIDS':'HIV_AIDS',\n",
        "                        '4.09 Mental Health Problem':'mental_health_problem',\n",
        "                        '4.05 Physical Disability':'physical_disability',\n",
        "                        'CaseChildren':'case_children','CaseAdults':'case_adults',\n",
        "                        'Bed Nights During Report Period':'bednights_during_report_period',\n",
        "                        'Count of Bed Nights - Entire Episode':'entire_episode_bednights',\n",
        "                        'HEN-HP Referral Most Recent':'most_recent_HEN-HP',\n",
        "                        'HEN-RRH Referral Most Recent':'most_recent_HEN-RRH',\n",
        "                        'WorkSource Referral Most Recent':'most_recent_worksource',\n",
        "                        'YAHP Referral Most Recent':'most_recent_YAHP',\n",
        "                        '4.04.10 Other Public':'other_public',\n",
        "                        '4.04.10 State Funded':'state_funded',\n",
        "                        '4.04.11 Indian Health Services (IHS)':'indian_health_services',\n",
        "                        '4.04.12 Other':'other',\n",
        "                        '4.04.3 Combined Childrens HealthInsurance/Medicaid':'combined_childrens_health_insurance',\n",
        "                        '4.04.3 Medicaid':'medicaid','4.04.4 Medicare':'medicare',\n",
        "                        \"4.04.5 State Children's health Insurance S-CHIP\":'CHIP',\n",
        "                        \"4.04.6 Veteran's Administration Medical Services\":'VAMS',\n",
        "                        '4.04.8 Health Insurance obtained through COBRA':'COBRA',\n",
        "                        '4.04.7 Private - Employer':'Private_employer',\n",
        "                        '4.04.9 Private':'private','4.04.9 Private - Individual':'private_individual',\n",
        "                        '4.2.3a Earned Income':'earned_income',\n",
        "                        '4.2.4b Unemployment Insurance':'unemployement_income',\n",
        "                        '4.2.5c Supplemental Security Income':'supplemental_security_income',\n",
        "                        '4.2.6d Social Security Disability  Income':'social_security_disability_income',\n",
        "                        '4.2.7e VA Disability Compensation':'VA_disability_compensation',\n",
        "                        '4.2.8f VA Disability Pension':'VA_disability_pension',\n",
        "                        '4.2.9g Private Disability Income':'private_disability_income',\n",
        "                        '4.2.10h Workers Compensation':'workers_compensation',\n",
        "                        '4.2.11i TANF':'TANF','4.2.12j General Assistance':'general_assistance',\n",
        "                        '4.2.13k Retirement (Social Security)':'retirement_social_security',\n",
        "                        '4.2.14l Pension from a Former Job':'pension_from_former_job',\n",
        "                        '4.2.15m Child Support':'child_support',\n",
        "                        '4.2.16n Alimony':'alimony',\n",
        "                        '4.2.17o Other Income':'other_income',\n",
        "                        'Chronic Homeless Status_vHMISDatAssessment':'chronic_homeless_status_assessment',\n",
        "                        'Chronic Homeless Status_EvaluatevHMIS&HMISDA':'chronic_homeless_status_evaluation',\n",
        "                        'Service':'service','Service Date':'service_date',})"
      ],
      "execution_count": null,
      "outputs": []
    },
    {
      "cell_type": "code",
      "metadata": {
        "id": "MYDs7FWh2DC-",
        "colab": {
          "base_uri": "https://localhost:8080/",
          "height": 221
        },
        "outputId": "4f87cade-7fc1-44b7-f8a9-68dfea9e4f27"
      },
      "source": [
        "df.nunique()"
      ],
      "execution_count": null,
      "outputs": [
        {
          "output_type": "execute_result",
          "data": {
            "text/plain": [
              "org_name                               1\n",
              "project_name                           2\n",
              "project_type                           1\n",
              "util_track_method                      2\n",
              "fed_grant_programs                     0\n",
              "                                      ..\n",
              "child_support                         15\n",
              "alimony                                1\n",
              "other_income                          11\n",
              "chronic_homeless_status_assessment     2\n",
              "chronic_homeless_status_evaluation     2\n",
              "Length: 145, dtype: int64"
            ]
          },
          "metadata": {
            "tags": []
          },
          "execution_count": 4
        }
      ]
    },
    {
      "cell_type": "code",
      "metadata": {
        "id": "rISMM5RqDIy0"
      },
      "source": [
        "# Format Date/Time\n",
        "\n",
        "df['enroll_date'] = pd.to_datetime(df['enroll_date'], infer_datetime_format=True)\n",
        "df['exit_date'] = pd.to_datetime(df['exit_date'], infer_datetime_format=True)\n",
        "df['dob'] = pd.to_datetime(df['dob'], infer_datetime_format=True)\n",
        "df['homeless_start_date'] = pd.to_datetime(df['homeless_start_date'], infer_datetime_format=True)\n",
        "df['engagement_date'] = pd.to_datetime(df['engagement_date'], infer_datetime_format=True)\n",
        "df['date_of_last_contact'] = pd.to_datetime(df['date_of_last_contact'], infer_datetime_format=True)\n",
        "df['date_of_first_contact'] = pd.to_datetime(df['date_of_first_contact'], infer_datetime_format=True)\n",
        "df['date_of_last_stay'] = pd.to_datetime(df['date_of_last_stay'], infer_datetime_format=True)\n",
        "df['date_of_first_stay'] = pd.to_datetime(df['date_of_first_stay'], infer_datetime_format=True)\n",
        "df['current_date'] = pd.to_datetime(df['current_date'], infer_datetime_format=True)"
      ],
      "execution_count": null,
      "outputs": []
    },
    {
      "cell_type": "code",
      "metadata": {
        "id": "8VQSKdQATwEk",
        "colab": {
          "base_uri": "https://localhost:8080/",
          "height": 1000
        },
        "outputId": "d1d929f2-65b3-4dbe-9545-17f6e76c3ead"
      },
      "source": [
        "!pip install pandas-profiling==2.*"
      ],
      "execution_count": null,
      "outputs": [
        {
          "output_type": "stream",
          "text": [
            "Collecting pandas-profiling==2.*\n",
            "\u001b[?25l  Downloading https://files.pythonhosted.org/packages/32/79/5d03ed1172e3e67a997a6a795bcdd2ab58f84851969d01a91455383795b6/pandas_profiling-2.9.0-py2.py3-none-any.whl (258kB)\n",
            "\r\u001b[K     |█▎                              | 10kB 6.0MB/s eta 0:00:01\r\u001b[K     |██▌                             | 20kB 2.8MB/s eta 0:00:01\r\u001b[K     |███▉                            | 30kB 3.6MB/s eta 0:00:01\r\u001b[K     |█████                           | 40kB 3.7MB/s eta 0:00:01\r\u001b[K     |██████▎                         | 51kB 3.3MB/s eta 0:00:01\r\u001b[K     |███████▋                        | 61kB 3.6MB/s eta 0:00:01\r\u001b[K     |████████▉                       | 71kB 3.9MB/s eta 0:00:01\r\u001b[K     |██████████▏                     | 81kB 4.3MB/s eta 0:00:01\r\u001b[K     |███████████▍                    | 92kB 4.4MB/s eta 0:00:01\r\u001b[K     |████████████▋                   | 102kB 4.3MB/s eta 0:00:01\r\u001b[K     |██████████████                  | 112kB 4.3MB/s eta 0:00:01\r\u001b[K     |███████████████▏                | 122kB 4.3MB/s eta 0:00:01\r\u001b[K     |████████████████▌               | 133kB 4.3MB/s eta 0:00:01\r\u001b[K     |█████████████████▊              | 143kB 4.3MB/s eta 0:00:01\r\u001b[K     |███████████████████             | 153kB 4.3MB/s eta 0:00:01\r\u001b[K     |████████████████████▎           | 163kB 4.3MB/s eta 0:00:01\r\u001b[K     |█████████████████████▌          | 174kB 4.3MB/s eta 0:00:01\r\u001b[K     |██████████████████████▊         | 184kB 4.3MB/s eta 0:00:01\r\u001b[K     |████████████████████████        | 194kB 4.3MB/s eta 0:00:01\r\u001b[K     |█████████████████████████▎      | 204kB 4.3MB/s eta 0:00:01\r\u001b[K     |██████████████████████████▋     | 215kB 4.3MB/s eta 0:00:01\r\u001b[K     |███████████████████████████▉    | 225kB 4.3MB/s eta 0:00:01\r\u001b[K     |█████████████████████████████   | 235kB 4.3MB/s eta 0:00:01\r\u001b[K     |██████████████████████████████▍ | 245kB 4.3MB/s eta 0:00:01\r\u001b[K     |███████████████████████████████▋| 256kB 4.3MB/s eta 0:00:01\r\u001b[K     |████████████████████████████████| 266kB 4.3MB/s \n",
            "\u001b[?25hRequirement already satisfied: pandas!=1.0.0,!=1.0.1,!=1.0.2,!=1.1.0,>=0.25.3 in /usr/local/lib/python3.6/dist-packages (from pandas-profiling==2.*) (1.1.2)\n",
            "Requirement already satisfied: matplotlib>=3.2.0 in /usr/local/lib/python3.6/dist-packages (from pandas-profiling==2.*) (3.2.2)\n",
            "Requirement already satisfied: requests>=2.23.0 in /usr/local/lib/python3.6/dist-packages (from pandas-profiling==2.*) (2.23.0)\n",
            "Collecting htmlmin>=0.1.12\n",
            "  Downloading https://files.pythonhosted.org/packages/b3/e7/fcd59e12169de19f0131ff2812077f964c6b960e7c09804d30a7bf2ab461/htmlmin-0.1.12.tar.gz\n",
            "Requirement already satisfied: jinja2>=2.11.1 in /usr/local/lib/python3.6/dist-packages (from pandas-profiling==2.*) (2.11.2)\n",
            "Collecting tangled-up-in-unicode>=0.0.6\n",
            "\u001b[?25l  Downloading https://files.pythonhosted.org/packages/4a/e2/e588ab9298d4989ce7fdb2b97d18aac878d99dbdc379a4476a09d9271b68/tangled_up_in_unicode-0.0.6-py3-none-any.whl (3.1MB)\n",
            "\u001b[K     |████████████████████████████████| 3.1MB 8.9MB/s \n",
            "\u001b[?25hCollecting confuse>=1.0.0\n",
            "\u001b[?25l  Downloading https://files.pythonhosted.org/packages/b5/6d/bedc0d1068bd244cee05843313cbec6cebb9f01f925538269bababc6d887/confuse-1.3.0-py2.py3-none-any.whl (64kB)\n",
            "\u001b[K     |████████████████████████████████| 71kB 7.8MB/s \n",
            "\u001b[?25hRequirement already satisfied: scipy>=1.4.1 in /usr/local/lib/python3.6/dist-packages (from pandas-profiling==2.*) (1.4.1)\n",
            "Requirement already satisfied: numpy>=1.16.0 in /usr/local/lib/python3.6/dist-packages (from pandas-profiling==2.*) (1.18.5)\n",
            "Requirement already satisfied: missingno>=0.4.2 in /usr/local/lib/python3.6/dist-packages (from pandas-profiling==2.*) (0.4.2)\n",
            "Collecting tqdm>=4.43.0\n",
            "\u001b[?25l  Downloading https://files.pythonhosted.org/packages/bd/cf/f91813073e4135c1183cadf968256764a6fe4e35c351d596d527c0540461/tqdm-4.50.2-py2.py3-none-any.whl (70kB)\n",
            "\u001b[K     |████████████████████████████████| 71kB 6.8MB/s \n",
            "\u001b[?25hRequirement already satisfied: ipywidgets>=7.5.1 in /usr/local/lib/python3.6/dist-packages (from pandas-profiling==2.*) (7.5.1)\n",
            "Requirement already satisfied: joblib in /usr/local/lib/python3.6/dist-packages (from pandas-profiling==2.*) (0.16.0)\n",
            "Requirement already satisfied: attrs>=19.3.0 in /usr/local/lib/python3.6/dist-packages (from pandas-profiling==2.*) (20.2.0)\n",
            "Collecting phik>=0.9.10\n",
            "\u001b[?25l  Downloading https://files.pythonhosted.org/packages/01/5a/7ef1c04ce62cd72f900c06298dc2385840550d5c653a0dbc19109a5477e6/phik-0.10.0-py3-none-any.whl (599kB)\n",
            "\u001b[K     |████████████████████████████████| 604kB 40.3MB/s \n",
            "\u001b[?25hCollecting visions[type_image_path]==0.5.0\n",
            "\u001b[?25l  Downloading https://files.pythonhosted.org/packages/26/e3/9416e94e767d59a86edcbcb8e1c8f42874d272c3b343676074879e9db0e0/visions-0.5.0-py3-none-any.whl (64kB)\n",
            "\u001b[K     |████████████████████████████████| 71kB 8.3MB/s \n",
            "\u001b[?25hRequirement already satisfied: seaborn>=0.10.1 in /usr/local/lib/python3.6/dist-packages (from pandas-profiling==2.*) (0.11.0)\n",
            "Requirement already satisfied: python-dateutil>=2.7.3 in /usr/local/lib/python3.6/dist-packages (from pandas!=1.0.0,!=1.0.1,!=1.0.2,!=1.1.0,>=0.25.3->pandas-profiling==2.*) (2.8.1)\n",
            "Requirement already satisfied: pytz>=2017.2 in /usr/local/lib/python3.6/dist-packages (from pandas!=1.0.0,!=1.0.1,!=1.0.2,!=1.1.0,>=0.25.3->pandas-profiling==2.*) (2018.9)\n",
            "Requirement already satisfied: cycler>=0.10 in /usr/local/lib/python3.6/dist-packages (from matplotlib>=3.2.0->pandas-profiling==2.*) (0.10.0)\n",
            "Requirement already satisfied: pyparsing!=2.0.4,!=2.1.2,!=2.1.6,>=2.0.1 in /usr/local/lib/python3.6/dist-packages (from matplotlib>=3.2.0->pandas-profiling==2.*) (2.4.7)\n",
            "Requirement already satisfied: kiwisolver>=1.0.1 in /usr/local/lib/python3.6/dist-packages (from matplotlib>=3.2.0->pandas-profiling==2.*) (1.2.0)\n",
            "Requirement already satisfied: certifi>=2017.4.17 in /usr/local/lib/python3.6/dist-packages (from requests>=2.23.0->pandas-profiling==2.*) (2020.6.20)\n",
            "Requirement already satisfied: idna<3,>=2.5 in /usr/local/lib/python3.6/dist-packages (from requests>=2.23.0->pandas-profiling==2.*) (2.10)\n",
            "Requirement already satisfied: urllib3!=1.25.0,!=1.25.1,<1.26,>=1.21.1 in /usr/local/lib/python3.6/dist-packages (from requests>=2.23.0->pandas-profiling==2.*) (1.24.3)\n",
            "Requirement already satisfied: chardet<4,>=3.0.2 in /usr/local/lib/python3.6/dist-packages (from requests>=2.23.0->pandas-profiling==2.*) (3.0.4)\n",
            "Requirement already satisfied: MarkupSafe>=0.23 in /usr/local/lib/python3.6/dist-packages (from jinja2>=2.11.1->pandas-profiling==2.*) (1.1.1)\n",
            "Requirement already satisfied: pyyaml in /usr/local/lib/python3.6/dist-packages (from confuse>=1.0.0->pandas-profiling==2.*) (3.13)\n",
            "Requirement already satisfied: widgetsnbextension~=3.5.0 in /usr/local/lib/python3.6/dist-packages (from ipywidgets>=7.5.1->pandas-profiling==2.*) (3.5.1)\n",
            "Requirement already satisfied: ipykernel>=4.5.1 in /usr/local/lib/python3.6/dist-packages (from ipywidgets>=7.5.1->pandas-profiling==2.*) (4.10.1)\n",
            "Requirement already satisfied: ipython>=4.0.0; python_version >= \"3.3\" in /usr/local/lib/python3.6/dist-packages (from ipywidgets>=7.5.1->pandas-profiling==2.*) (5.5.0)\n",
            "Requirement already satisfied: traitlets>=4.3.1 in /usr/local/lib/python3.6/dist-packages (from ipywidgets>=7.5.1->pandas-profiling==2.*) (4.3.3)\n",
            "Requirement already satisfied: nbformat>=4.2.0 in /usr/local/lib/python3.6/dist-packages (from ipywidgets>=7.5.1->pandas-profiling==2.*) (5.0.7)\n",
            "Requirement already satisfied: numba>=0.38.1 in /usr/local/lib/python3.6/dist-packages (from phik>=0.9.10->pandas-profiling==2.*) (0.48.0)\n",
            "Requirement already satisfied: networkx>=2.4 in /usr/local/lib/python3.6/dist-packages (from visions[type_image_path]==0.5.0->pandas-profiling==2.*) (2.5)\n",
            "Requirement already satisfied: Pillow; extra == \"type_image_path\" in /usr/local/lib/python3.6/dist-packages (from visions[type_image_path]==0.5.0->pandas-profiling==2.*) (7.0.0)\n",
            "Collecting imagehash; extra == \"type_image_path\"\n",
            "\u001b[?25l  Downloading https://files.pythonhosted.org/packages/1a/5d/cc81830be3c4705a46cdbca74439b67f1017881383ba0127c41c4cecb7b3/ImageHash-4.1.0.tar.gz (291kB)\n",
            "\u001b[K     |████████████████████████████████| 296kB 42.8MB/s \n",
            "\u001b[?25hRequirement already satisfied: six>=1.5 in /usr/local/lib/python3.6/dist-packages (from python-dateutil>=2.7.3->pandas!=1.0.0,!=1.0.1,!=1.0.2,!=1.1.0,>=0.25.3->pandas-profiling==2.*) (1.15.0)\n",
            "Requirement already satisfied: notebook>=4.4.1 in /usr/local/lib/python3.6/dist-packages (from widgetsnbextension~=3.5.0->ipywidgets>=7.5.1->pandas-profiling==2.*) (5.3.1)\n",
            "Requirement already satisfied: tornado>=4.0 in /usr/local/lib/python3.6/dist-packages (from ipykernel>=4.5.1->ipywidgets>=7.5.1->pandas-profiling==2.*) (5.1.1)\n",
            "Requirement already satisfied: jupyter-client in /usr/local/lib/python3.6/dist-packages (from ipykernel>=4.5.1->ipywidgets>=7.5.1->pandas-profiling==2.*) (5.3.5)\n",
            "Requirement already satisfied: simplegeneric>0.8 in /usr/local/lib/python3.6/dist-packages (from ipython>=4.0.0; python_version >= \"3.3\"->ipywidgets>=7.5.1->pandas-profiling==2.*) (0.8.1)\n",
            "Requirement already satisfied: prompt-toolkit<2.0.0,>=1.0.4 in /usr/local/lib/python3.6/dist-packages (from ipython>=4.0.0; python_version >= \"3.3\"->ipywidgets>=7.5.1->pandas-profiling==2.*) (1.0.18)\n",
            "Requirement already satisfied: pickleshare in /usr/local/lib/python3.6/dist-packages (from ipython>=4.0.0; python_version >= \"3.3\"->ipywidgets>=7.5.1->pandas-profiling==2.*) (0.7.5)\n",
            "Requirement already satisfied: setuptools>=18.5 in /usr/local/lib/python3.6/dist-packages (from ipython>=4.0.0; python_version >= \"3.3\"->ipywidgets>=7.5.1->pandas-profiling==2.*) (50.3.0)\n",
            "Requirement already satisfied: pygments in /usr/local/lib/python3.6/dist-packages (from ipython>=4.0.0; python_version >= \"3.3\"->ipywidgets>=7.5.1->pandas-profiling==2.*) (2.6.1)\n",
            "Requirement already satisfied: decorator in /usr/local/lib/python3.6/dist-packages (from ipython>=4.0.0; python_version >= \"3.3\"->ipywidgets>=7.5.1->pandas-profiling==2.*) (4.4.2)\n",
            "Requirement already satisfied: pexpect; sys_platform != \"win32\" in /usr/local/lib/python3.6/dist-packages (from ipython>=4.0.0; python_version >= \"3.3\"->ipywidgets>=7.5.1->pandas-profiling==2.*) (4.8.0)\n",
            "Requirement already satisfied: ipython-genutils in /usr/local/lib/python3.6/dist-packages (from traitlets>=4.3.1->ipywidgets>=7.5.1->pandas-profiling==2.*) (0.2.0)\n",
            "Requirement already satisfied: jsonschema!=2.5.0,>=2.4 in /usr/local/lib/python3.6/dist-packages (from nbformat>=4.2.0->ipywidgets>=7.5.1->pandas-profiling==2.*) (2.6.0)\n",
            "Requirement already satisfied: jupyter-core in /usr/local/lib/python3.6/dist-packages (from nbformat>=4.2.0->ipywidgets>=7.5.1->pandas-profiling==2.*) (4.6.3)\n",
            "Requirement already satisfied: llvmlite<0.32.0,>=0.31.0dev0 in /usr/local/lib/python3.6/dist-packages (from numba>=0.38.1->phik>=0.9.10->pandas-profiling==2.*) (0.31.0)\n",
            "Requirement already satisfied: PyWavelets in /usr/local/lib/python3.6/dist-packages (from imagehash; extra == \"type_image_path\"->visions[type_image_path]==0.5.0->pandas-profiling==2.*) (1.1.1)\n",
            "Requirement already satisfied: Send2Trash in /usr/local/lib/python3.6/dist-packages (from notebook>=4.4.1->widgetsnbextension~=3.5.0->ipywidgets>=7.5.1->pandas-profiling==2.*) (1.5.0)\n",
            "Requirement already satisfied: nbconvert in /usr/local/lib/python3.6/dist-packages (from notebook>=4.4.1->widgetsnbextension~=3.5.0->ipywidgets>=7.5.1->pandas-profiling==2.*) (5.6.1)\n",
            "Requirement already satisfied: terminado>=0.8.1 in /usr/local/lib/python3.6/dist-packages (from notebook>=4.4.1->widgetsnbextension~=3.5.0->ipywidgets>=7.5.1->pandas-profiling==2.*) (0.9.1)\n",
            "Requirement already satisfied: pyzmq>=13 in /usr/local/lib/python3.6/dist-packages (from jupyter-client->ipykernel>=4.5.1->ipywidgets>=7.5.1->pandas-profiling==2.*) (19.0.2)\n",
            "Requirement already satisfied: wcwidth in /usr/local/lib/python3.6/dist-packages (from prompt-toolkit<2.0.0,>=1.0.4->ipython>=4.0.0; python_version >= \"3.3\"->ipywidgets>=7.5.1->pandas-profiling==2.*) (0.2.5)\n",
            "Requirement already satisfied: ptyprocess>=0.5 in /usr/local/lib/python3.6/dist-packages (from pexpect; sys_platform != \"win32\"->ipython>=4.0.0; python_version >= \"3.3\"->ipywidgets>=7.5.1->pandas-profiling==2.*) (0.6.0)\n",
            "Requirement already satisfied: entrypoints>=0.2.2 in /usr/local/lib/python3.6/dist-packages (from nbconvert->notebook>=4.4.1->widgetsnbextension~=3.5.0->ipywidgets>=7.5.1->pandas-profiling==2.*) (0.3)\n",
            "Requirement already satisfied: pandocfilters>=1.4.1 in /usr/local/lib/python3.6/dist-packages (from nbconvert->notebook>=4.4.1->widgetsnbextension~=3.5.0->ipywidgets>=7.5.1->pandas-profiling==2.*) (1.4.2)\n",
            "Requirement already satisfied: testpath in /usr/local/lib/python3.6/dist-packages (from nbconvert->notebook>=4.4.1->widgetsnbextension~=3.5.0->ipywidgets>=7.5.1->pandas-profiling==2.*) (0.4.4)\n",
            "Requirement already satisfied: bleach in /usr/local/lib/python3.6/dist-packages (from nbconvert->notebook>=4.4.1->widgetsnbextension~=3.5.0->ipywidgets>=7.5.1->pandas-profiling==2.*) (3.2.1)\n",
            "Requirement already satisfied: mistune<2,>=0.8.1 in /usr/local/lib/python3.6/dist-packages (from nbconvert->notebook>=4.4.1->widgetsnbextension~=3.5.0->ipywidgets>=7.5.1->pandas-profiling==2.*) (0.8.4)\n",
            "Requirement already satisfied: defusedxml in /usr/local/lib/python3.6/dist-packages (from nbconvert->notebook>=4.4.1->widgetsnbextension~=3.5.0->ipywidgets>=7.5.1->pandas-profiling==2.*) (0.6.0)\n",
            "Requirement already satisfied: packaging in /usr/local/lib/python3.6/dist-packages (from bleach->nbconvert->notebook>=4.4.1->widgetsnbextension~=3.5.0->ipywidgets>=7.5.1->pandas-profiling==2.*) (20.4)\n",
            "Requirement already satisfied: webencodings in /usr/local/lib/python3.6/dist-packages (from bleach->nbconvert->notebook>=4.4.1->widgetsnbextension~=3.5.0->ipywidgets>=7.5.1->pandas-profiling==2.*) (0.5.1)\n",
            "Building wheels for collected packages: htmlmin, imagehash\n",
            "  Building wheel for htmlmin (setup.py) ... \u001b[?25l\u001b[?25hdone\n",
            "  Created wheel for htmlmin: filename=htmlmin-0.1.12-cp36-none-any.whl size=27085 sha256=439128d0049fcca818348e2fadcf6e49988ef1642c33a388bd62139ab5af6ea5\n",
            "  Stored in directory: /root/.cache/pip/wheels/43/07/ac/7c5a9d708d65247ac1f94066cf1db075540b85716c30255459\n",
            "  Building wheel for imagehash (setup.py) ... \u001b[?25l\u001b[?25hdone\n",
            "  Created wheel for imagehash: filename=ImageHash-4.1.0-py2.py3-none-any.whl size=291991 sha256=a530a1bfa6b6cced0de17df40a33d8a813dc56ef2cc83722cccaf6e58d5adcf8\n",
            "  Stored in directory: /root/.cache/pip/wheels/07/1c/dc/6831446f09feb8cc199ec73a0f2f0703253f6ae013a22f4be9\n",
            "Successfully built htmlmin imagehash\n",
            "Installing collected packages: htmlmin, tangled-up-in-unicode, confuse, tqdm, phik, imagehash, visions, pandas-profiling\n",
            "  Found existing installation: tqdm 4.41.1\n",
            "    Uninstalling tqdm-4.41.1:\n",
            "      Successfully uninstalled tqdm-4.41.1\n",
            "  Found existing installation: pandas-profiling 1.4.1\n",
            "    Uninstalling pandas-profiling-1.4.1:\n",
            "      Successfully uninstalled pandas-profiling-1.4.1\n",
            "Successfully installed confuse-1.3.0 htmlmin-0.1.12 imagehash-4.1.0 pandas-profiling-2.9.0 phik-0.10.0 tangled-up-in-unicode-0.0.6 tqdm-4.50.2 visions-0.5.0\n"
          ],
          "name": "stdout"
        }
      ]
    },
    {
      "cell_type": "markdown",
      "metadata": {
        "id": "Lct9YUfPlVEx"
      },
      "source": [
        "#### Engineer new feature to predict target"
      ]
    },
    {
      "cell_type": "code",
      "metadata": {
        "id": "t08ejDNNl4-Y",
        "colab": {
          "base_uri": "https://localhost:8080/",
          "height": 391
        },
        "outputId": "abd63d66-261c-47f6-e71f-81d13f04fd05"
      },
      "source": [
        "df['exit_destination'].value_counts()"
      ],
      "execution_count": null,
      "outputs": [
        {
          "output_type": "execute_result",
          "data": {
            "text/plain": [
              "Emergency shelter, including hotel or motel paid for with emergency shelter voucher, or RHY-funded Host Home shelter             383\n",
              "No exit interview completed                                                                                                      269\n",
              "Client refused                                                                                                                   219\n",
              "Rental by client with RRH or equivalent subsidy                                                                                  196\n",
              "Rental by client, no ongoing housing subsidy                                                                                     131\n",
              "Rental by client, other ongoing housing subsidy                                                                                  119\n",
              "Transitional Housing for homeless persons (including homeless youth)                                                              84\n",
              "Staying or living with family, permanent tenure                                                                                   77\n",
              "Place not meant for habitation (e.g., a vehicle, an abandoned building, bus/train/subway station/airport or anywhere outside)     73\n",
              "Staying or living with family, temporary tenure (e.g., room, apartment or house)                                                  63\n",
              "Staying or living with friends, temporary tenure (e.g., room, apartment or house)                                                 47\n",
              "Staying or living with friends, permanent tenure                                                                                  38\n",
              "Permanent housing (other than RRH) for formerly homeless persons                                                                  21\n",
              "Hotel or Motel paid for without Emergency Shelter Voucher                                                                         17\n",
              "Other                                                                                                                              7\n",
              "Safe Haven                                                                                                                         3\n",
              "Client doesn't know                                                                                                                3\n",
              "Substance Abuse Treatment or Detox Center                                                                                          2\n",
              "Owned by client, no ongoing housing subsidy                                                                                        1\n",
              "Foster Care Home or Foster Care Group Home                                                                                         1\n",
              "Psychiatric Hospital or Other Psychiatric Facility                                                                                 1\n",
              "Name: exit_destination, dtype: int64"
            ]
          },
          "metadata": {
            "tags": []
          },
          "execution_count": 7
        }
      ]
    },
    {
      "cell_type": "code",
      "metadata": {
        "id": "ySfGvW0UmI9t"
      },
      "source": [
        "yes = ['Rental by client with RRH or equivalent subsidy', \n",
        "                'Rental by client, no ongoing housing subsidy', \n",
        "                'Staying or living with family, permanent tenure', \n",
        "                'Rental by client, other ongoing housing subsidy',\n",
        "                'Permanent housing (other than RRH) for formerly homeless persons', \n",
        "                'Staying or living with friends, permanent tenure', \n",
        "                'Owned by client, with ongoing housing subsidy',\n",
        "                'Owned by client, no ongoing housing subsidy',\n",
        "                'Staying or living with friends, permanent tenure', \n",
        "                'Rental by client, VASH housing Subsidy'\n",
        "               ]\n",
        "no = ['Staying or living with family, temporary tenure (e.g., room, apartment or house)', \n",
        "               'Staying or living with friends, temporary tenure (e.g., room, apartment or house)', \n",
        "               'Emergency shelter, including hotel or motel paid for with emergency shelter voucher, or RHY-funded Host Home shelter',\n",
        "                'Place not meant for habitation (e.g., a vehicle, an abandoned building, bus/train/subway station/airport or anywhere outside)',\n",
        "                 'Hotel or Motel paid for without Emergency Shelter Voucher', 'Other', 'Substance Abuse Treatment or Detox Center',\n",
        "                 'Foster Care Home or Foster Care Group Home', 'Psychiatric Hospital or Other Psychiatric Facility',\n",
        "                 'Transitional Housing for homeless persons (including homeless youth)',\n",
        "                  'Client refused', 'No exit interview completed', 'nan'\n",
        "                  ]"
      ],
      "execution_count": null,
      "outputs": []
    },
    {
      "cell_type": "code",
      "metadata": {
        "id": "PfBEi7Qum4ae"
      },
      "source": [
        "import numpy as np\n",
        "col = 'exit_destination'\n",
        "conditions = [df[col].isin(yes), df[col].isin(no)]\n",
        "choices = ['1', '0',]\n",
        "df['perm_exit'] = np.select(conditions, choices)                     "
      ],
      "execution_count": null,
      "outputs": []
    },
    {
      "cell_type": "code",
      "metadata": {
        "id": "0a6BqA35nUef",
        "colab": {
          "base_uri": "https://localhost:8080/",
          "height": 68
        },
        "outputId": "e585c322-8a6e-4a99-ae85-b4d7341bab80"
      },
      "source": [
        "df['perm_exit'].value_counts()"
      ],
      "execution_count": null,
      "outputs": [
        {
          "output_type": "execute_result",
          "data": {
            "text/plain": [
              "0    1235\n",
              "1     583\n",
              "Name: perm_exit, dtype: int64"
            ]
          },
          "metadata": {
            "tags": []
          },
          "execution_count": 10
        }
      ]
    },
    {
      "cell_type": "markdown",
      "metadata": {
        "id": "48AsO5ybNfhn"
      },
      "source": [
        "#### Set Features / Target"
      ]
    },
    {
      "cell_type": "code",
      "metadata": {
        "id": "LEzfM6djz2mO"
      },
      "source": [
        "df = df.filter(['age_at_enrollment', 'case_members','earned_income', 'perm_exit'], axis=1)"
      ],
      "execution_count": null,
      "outputs": []
    },
    {
      "cell_type": "code",
      "metadata": {
        "id": "7JVhG6gsOP_t"
      },
      "source": [
        "from sklearn.model_selection import train_test_split\n",
        "train, test = train_test_split(df, test_size=0.25)"
      ],
      "execution_count": null,
      "outputs": []
    },
    {
      "cell_type": "code",
      "metadata": {
        "id": "PWL-wwyyOToi"
      },
      "source": [
        "train, val = train_test_split(train, random_state=42)"
      ],
      "execution_count": null,
      "outputs": []
    },
    {
      "cell_type": "code",
      "metadata": {
        "id": "BtOcLyNbOWhN",
        "colab": {
          "base_uri": "https://localhost:8080/",
          "height": 34
        },
        "outputId": "d3b7c8a6-45df-413e-acb3-513d6c4ba9d7"
      },
      "source": [
        "train.shape, val.shape, test.shape"
      ],
      "execution_count": null,
      "outputs": [
        {
          "output_type": "execute_result",
          "data": {
            "text/plain": [
              "((1022, 4), (341, 4), (455, 4))"
            ]
          },
          "metadata": {
            "tags": []
          },
          "execution_count": 14
        }
      ]
    },
    {
      "cell_type": "code",
      "metadata": {
        "id": "PUXq5rl_NpvB"
      },
      "source": [
        "# Arrange data into X features matrix and y target vector\n",
        "\n",
        "features = ['age_at_enrollment', 'case_members', 'earned_income']\n",
        "target = ['perm_exit']\n",
        "\n",
        "X_train = train[features]\n",
        "y_train = train[target]\n",
        "X_val = val[features]\n",
        "y_val = val[target]"
      ],
      "execution_count": null,
      "outputs": []
    },
    {
      "cell_type": "code",
      "metadata": {
        "id": "293I3pJ3yJMB",
        "colab": {
          "base_uri": "https://localhost:8080/",
          "height": 419
        },
        "outputId": "13b83284-cf01-4778-aa4c-f31974f228ec"
      },
      "source": [
        "df"
      ],
      "execution_count": null,
      "outputs": [
        {
          "output_type": "execute_result",
          "data": {
            "text/html": [
              "<div>\n",
              "<style scoped>\n",
              "    .dataframe tbody tr th:only-of-type {\n",
              "        vertical-align: middle;\n",
              "    }\n",
              "\n",
              "    .dataframe tbody tr th {\n",
              "        vertical-align: top;\n",
              "    }\n",
              "\n",
              "    .dataframe thead th {\n",
              "        text-align: right;\n",
              "    }\n",
              "</style>\n",
              "<table border=\"1\" class=\"dataframe\">\n",
              "  <thead>\n",
              "    <tr style=\"text-align: right;\">\n",
              "      <th></th>\n",
              "      <th>age_at_enrollment</th>\n",
              "      <th>case_members</th>\n",
              "      <th>earned_income</th>\n",
              "      <th>perm_exit</th>\n",
              "    </tr>\n",
              "  </thead>\n",
              "  <tbody>\n",
              "    <tr>\n",
              "      <th>0</th>\n",
              "      <td>4</td>\n",
              "      <td>6</td>\n",
              "      <td>0.0</td>\n",
              "      <td>0</td>\n",
              "    </tr>\n",
              "    <tr>\n",
              "      <th>1</th>\n",
              "      <td>28</td>\n",
              "      <td>6</td>\n",
              "      <td>1300.0</td>\n",
              "      <td>0</td>\n",
              "    </tr>\n",
              "    <tr>\n",
              "      <th>2</th>\n",
              "      <td>10</td>\n",
              "      <td>6</td>\n",
              "      <td>0.0</td>\n",
              "      <td>0</td>\n",
              "    </tr>\n",
              "    <tr>\n",
              "      <th>3</th>\n",
              "      <td>5</td>\n",
              "      <td>6</td>\n",
              "      <td>0.0</td>\n",
              "      <td>0</td>\n",
              "    </tr>\n",
              "    <tr>\n",
              "      <th>4</th>\n",
              "      <td>27</td>\n",
              "      <td>6</td>\n",
              "      <td>1200.0</td>\n",
              "      <td>0</td>\n",
              "    </tr>\n",
              "    <tr>\n",
              "      <th>...</th>\n",
              "      <td>...</td>\n",
              "      <td>...</td>\n",
              "      <td>...</td>\n",
              "      <td>...</td>\n",
              "    </tr>\n",
              "    <tr>\n",
              "      <th>1813</th>\n",
              "      <td>1</td>\n",
              "      <td>3</td>\n",
              "      <td>0.0</td>\n",
              "      <td>0</td>\n",
              "    </tr>\n",
              "    <tr>\n",
              "      <th>1814</th>\n",
              "      <td>34</td>\n",
              "      <td>4</td>\n",
              "      <td>0.0</td>\n",
              "      <td>0</td>\n",
              "    </tr>\n",
              "    <tr>\n",
              "      <th>1815</th>\n",
              "      <td>12</td>\n",
              "      <td>4</td>\n",
              "      <td>0.0</td>\n",
              "      <td>0</td>\n",
              "    </tr>\n",
              "    <tr>\n",
              "      <th>1816</th>\n",
              "      <td>6</td>\n",
              "      <td>4</td>\n",
              "      <td>0.0</td>\n",
              "      <td>0</td>\n",
              "    </tr>\n",
              "    <tr>\n",
              "      <th>1817</th>\n",
              "      <td>16</td>\n",
              "      <td>4</td>\n",
              "      <td>0.0</td>\n",
              "      <td>0</td>\n",
              "    </tr>\n",
              "  </tbody>\n",
              "</table>\n",
              "<p>1818 rows × 4 columns</p>\n",
              "</div>"
            ],
            "text/plain": [
              "      age_at_enrollment  case_members  earned_income perm_exit\n",
              "0                     4             6            0.0         0\n",
              "1                    28             6         1300.0         0\n",
              "2                    10             6            0.0         0\n",
              "3                     5             6            0.0         0\n",
              "4                    27             6         1200.0         0\n",
              "...                 ...           ...            ...       ...\n",
              "1813                  1             3            0.0         0\n",
              "1814                 34             4            0.0         0\n",
              "1815                 12             4            0.0         0\n",
              "1816                  6             4            0.0         0\n",
              "1817                 16             4            0.0         0\n",
              "\n",
              "[1818 rows x 4 columns]"
            ]
          },
          "metadata": {
            "tags": []
          },
          "execution_count": 16
        }
      ]
    },
    {
      "cell_type": "markdown",
      "metadata": {
        "id": "u2PetdhGQfD-"
      },
      "source": [
        "#### Baseline for binary classification"
      ]
    },
    {
      "cell_type": "code",
      "metadata": {
        "id": "iU4-qtWQPpc9",
        "colab": {
          "base_uri": "https://localhost:8080/",
          "height": 68
        },
        "outputId": "99fc0284-2967-487e-a6f3-d5f15275af03"
      },
      "source": [
        "# Baseline Accuracy\n",
        "target = 'perm_exit'\n",
        "y_train = train[target]\n",
        "y_train.value_counts(normalize=True)"
      ],
      "execution_count": null,
      "outputs": [
        {
          "output_type": "execute_result",
          "data": {
            "text/plain": [
              "0    0.695695\n",
              "1    0.304305\n",
              "Name: perm_exit, dtype: float64"
            ]
          },
          "metadata": {
            "tags": []
          },
          "execution_count": 17
        }
      ]
    },
    {
      "cell_type": "code",
      "metadata": {
        "id": "t5JbnY8zQl4m",
        "colab": {
          "base_uri": "https://localhost:8080/",
          "height": 34
        },
        "outputId": "ce08559a-6245-4034-9447-cf32e56054c6"
      },
      "source": [
        "majority_class = y_train.mode()[0]\n",
        "y_pred = [majority_class] * len(y_train)\n",
        "y_pred[:5]"
      ],
      "execution_count": null,
      "outputs": [
        {
          "output_type": "execute_result",
          "data": {
            "text/plain": [
              "['0', '0', '0', '0', '0']"
            ]
          },
          "metadata": {
            "tags": []
          },
          "execution_count": 18
        }
      ]
    },
    {
      "cell_type": "code",
      "metadata": {
        "id": "_fKYmDGA0WlM",
        "colab": {
          "base_uri": "https://localhost:8080/",
          "height": 85
        },
        "outputId": "56f414f3-b68c-4017-bb56-39c0145e7d35"
      },
      "source": [
        "import category_encoders as ce\n",
        "from sklearn.impute import SimpleImputer\n",
        "from sklearn.linear_model import LogisticRegressionCV\n",
        "from sklearn.preprocessing import StandardScaler\n",
        "\n",
        "encoder = ce.OneHotEncoder(use_cat_names=True)\n",
        "X_train_encoded = encoder.fit_transform(X_train)\n",
        "X_val_encoded = encoder.transform(X_val)"
      ],
      "execution_count": null,
      "outputs": [
        {
          "output_type": "stream",
          "text": [
            "/usr/local/lib/python3.6/dist-packages/statsmodels/tools/_testing.py:19: FutureWarning: pandas.util.testing is deprecated. Use the functions in the public API at pandas.testing instead.\n",
            "  import pandas.util.testing as tm\n",
            "/usr/local/lib/python3.6/dist-packages/category_encoders/utils.py:21: FutureWarning: is_categorical is deprecated and will be removed in a future version.  Use is_categorical_dtype instead\n",
            "  elif pd.api.types.is_categorical(cols):\n"
          ],
          "name": "stderr"
        }
      ]
    },
    {
      "cell_type": "code",
      "metadata": {
        "id": "cfNHK0GU05_S",
        "colab": {
          "base_uri": "https://localhost:8080/",
          "height": 34
        },
        "outputId": "0ea5123b-f019-425d-a6fd-220c40230ecb"
      },
      "source": [
        "# Check shape after encoding\n",
        "X_train_encoded.shape, X_val_encoded.shape"
      ],
      "execution_count": null,
      "outputs": [
        {
          "output_type": "execute_result",
          "data": {
            "text/plain": [
              "((1022, 3), (341, 3))"
            ]
          },
          "metadata": {
            "tags": []
          },
          "execution_count": 20
        }
      ]
    },
    {
      "cell_type": "code",
      "metadata": {
        "id": "AbQQ39sA1Eaf"
      },
      "source": [
        "imputer = SimpleImputer(strategy='mean')\n",
        "X_train_imputed = imputer.fit_transform(X_train_encoded)\n",
        "X_val_imputed = imputer.transform(X_val_encoded)"
      ],
      "execution_count": null,
      "outputs": []
    },
    {
      "cell_type": "code",
      "metadata": {
        "id": "zChoUvcs1GdI",
        "colab": {
          "base_uri": "https://localhost:8080/",
          "height": 102
        },
        "outputId": "26d3334c-be3e-4e73-ed15-869e64f9f8f0"
      },
      "source": [
        "X_val_imputed[:5]  # Slice to the first 5 observations"
      ],
      "execution_count": null,
      "outputs": [
        {
          "output_type": "execute_result",
          "data": {
            "text/plain": [
              "array([[36.,  3.,  0.],\n",
              "       [11.,  3.,  0.],\n",
              "       [22.,  4.,  0.],\n",
              "       [ 3.,  2.,  0.],\n",
              "       [ 0.,  4.,  0.]])"
            ]
          },
          "metadata": {
            "tags": []
          },
          "execution_count": 22
        }
      ]
    },
    {
      "cell_type": "code",
      "metadata": {
        "id": "ossFAHLb1JHc"
      },
      "source": [
        "scaler = StandardScaler()\n",
        "X_train_scaled = scaler.fit_transform(X_train_imputed)\n",
        "X_val_scaled = scaler.transform(X_val_imputed)"
      ],
      "execution_count": null,
      "outputs": []
    },
    {
      "cell_type": "code",
      "metadata": {
        "id": "QnW39V9C1KaY",
        "colab": {
          "base_uri": "https://localhost:8080/",
          "height": 102
        },
        "outputId": "6924bfc5-10ef-4e3d-94ab-2eb5c6308312"
      },
      "source": [
        "X_val_scaled[:5]"
      ],
      "execution_count": null,
      "outputs": [
        {
          "output_type": "execute_result",
          "data": {
            "text/plain": [
              "array([[ 1.03366646, -0.46063462, -0.19326667],\n",
              "       [-0.56636856, -0.46063462, -0.19326667],\n",
              "       [ 0.13764685,  0.22964189, -0.19326667],\n",
              "       [-1.07837977, -1.15091112, -0.19326667],\n",
              "       [-1.27038397,  0.22964189, -0.19326667]])"
            ]
          },
          "metadata": {
            "tags": []
          },
          "execution_count": 24
        }
      ]
    },
    {
      "cell_type": "code",
      "metadata": {
        "id": "m7zEaoUo1Mlp",
        "colab": {
          "base_uri": "https://localhost:8080/",
          "height": 102
        },
        "outputId": "bc7d69cd-8715-4bd4-a49a-9869fbaeb830"
      },
      "source": [
        "# Fit our model!\n",
        "model = LogisticRegressionCV()\n",
        "model.fit(X_train_scaled, y_train)"
      ],
      "execution_count": null,
      "outputs": [
        {
          "output_type": "execute_result",
          "data": {
            "text/plain": [
              "LogisticRegressionCV(Cs=10, class_weight=None, cv=None, dual=False,\n",
              "                     fit_intercept=True, intercept_scaling=1.0, l1_ratios=None,\n",
              "                     max_iter=100, multi_class='auto', n_jobs=None,\n",
              "                     penalty='l2', random_state=None, refit=True, scoring=None,\n",
              "                     solver='lbfgs', tol=0.0001, verbose=0)"
            ]
          },
          "metadata": {
            "tags": []
          },
          "execution_count": 33
        }
      ]
    },
    {
      "cell_type": "code",
      "metadata": {
        "id": "HxkxN06N1OzT",
        "colab": {
          "base_uri": "https://localhost:8080/",
          "height": 34
        },
        "outputId": "f6ccd5da-c9b3-48fd-a3a2-0fa065378871"
      },
      "source": [
        "# Predicting score\n",
        "model.score(X_train_scaled, y_train)"
      ],
      "execution_count": null,
      "outputs": [
        {
          "output_type": "execute_result",
          "data": {
            "text/plain": [
              "0.6956947162426614"
            ]
          },
          "metadata": {
            "tags": []
          },
          "execution_count": 34
        }
      ]
    },
    {
      "cell_type": "markdown",
      "metadata": {
        "id": "umnjEzZkt3Y_"
      },
      "source": [
        "#### Random Forest"
      ]
    },
    {
      "cell_type": "code",
      "metadata": {
        "id": "w02Hc7O_t5oO",
        "colab": {
          "base_uri": "https://localhost:8080/",
          "height": 68
        },
        "outputId": "6bb70217-c047-4437-c586-9b69f37334c3"
      },
      "source": [
        "import category_encoders as ce\n",
        "from sklearn.ensemble import RandomForestClassifier\n",
        "from sklearn.impute import SimpleImputer\n",
        "from sklearn.pipeline import make_pipeline\n",
        "\n",
        "pipeline = make_pipeline(\n",
        "    ce.OneHotEncoder(use_cat_names=True), \n",
        "    SimpleImputer(strategy='median'), \n",
        "    RandomForestClassifier(random_state=0, n_jobs=-1)\n",
        ")\n",
        "\n",
        "# Fit on train, score on val\n",
        "pipeline.fit(X_train, y_train)\n",
        "print('Accuracy', pipeline.score(X_train, y_train))"
      ],
      "execution_count": null,
      "outputs": [
        {
          "output_type": "stream",
          "text": [
            "/usr/local/lib/python3.6/dist-packages/category_encoders/utils.py:21: FutureWarning: is_categorical is deprecated and will be removed in a future version.  Use is_categorical_dtype instead\n",
            "  elif pd.api.types.is_categorical(cols):\n"
          ],
          "name": "stderr"
        },
        {
          "output_type": "stream",
          "text": [
            "Accuracy 0.7759295499021527\n"
          ],
          "name": "stdout"
        }
      ]
    },
    {
      "cell_type": "markdown",
      "metadata": {
        "id": "hb8buT59uvlv"
      },
      "source": [
        "#### XG Boost"
      ]
    },
    {
      "cell_type": "code",
      "metadata": {
        "id": "h33mQ0wfvCkA",
        "colab": {
          "base_uri": "https://localhost:8080/",
          "height": 306
        },
        "outputId": "b5788bfc-e740-4598-9262-cbb696d1e818"
      },
      "source": [
        "from xgboost import XGBClassifier\n",
        "\n",
        "pipeline = make_pipeline(\n",
        "    ce.OrdinalEncoder(),\n",
        "    XGBClassifier(n_estimators=100,\n",
        "                  random_state=42,\n",
        "                  n_jobs=-1)\n",
        ")\n",
        "\n",
        "pipeline.fit(X_train, y_train)"
      ],
      "execution_count": null,
      "outputs": [
        {
          "output_type": "execute_result",
          "data": {
            "text/plain": [
              "Pipeline(memory=None,\n",
              "         steps=[('ordinalencoder',\n",
              "                 OrdinalEncoder(cols=[], drop_invariant=False,\n",
              "                                handle_missing='value', handle_unknown='value',\n",
              "                                mapping=[], return_df=True, verbose=0)),\n",
              "                ('xgbclassifier',\n",
              "                 XGBClassifier(base_score=0.5, booster='gbtree',\n",
              "                               colsample_bylevel=1, colsample_bynode=1,\n",
              "                               colsample_bytree=1, gamma=0, learning_rate=0.1,\n",
              "                               max_delta_step=0, max_depth=3,\n",
              "                               min_child_weight=1, missing=None,\n",
              "                               n_estimators=100, n_jobs=-1, nthread=None,\n",
              "                               objective='binary:logistic', random_state=42,\n",
              "                               reg_alpha=0, reg_lambda=1, scale_pos_weight=1,\n",
              "                               seed=None, silent=None, subsample=1,\n",
              "                               verbosity=1))],\n",
              "         verbose=False)"
            ]
          },
          "metadata": {
            "tags": []
          },
          "execution_count": 44
        }
      ]
    },
    {
      "cell_type": "code",
      "metadata": {
        "id": "Qb7qNd3_vFbA",
        "colab": {
          "base_uri": "https://localhost:8080/",
          "height": 51
        },
        "outputId": "3a5008c1-502d-4d90-99c1-1d1a628cf30b"
      },
      "source": [
        "print('Training Accuracy:', pipeline.score(X_train, y_train))\n",
        "print('Validation Accuracy:', pipeline.score(X_val, y_val))"
      ],
      "execution_count": null,
      "outputs": [
        {
          "output_type": "stream",
          "text": [
            "Training Accuracy: 0.7064579256360078\n",
            "Validation Accuracy: 0.6334310850439883\n"
          ],
          "name": "stdout"
        }
      ]
    },
    {
      "cell_type": "markdown",
      "metadata": {
        "id": "M-LyNJ53uBZ9"
      },
      "source": [
        "#### Permutation Importances"
      ]
    },
    {
      "cell_type": "code",
      "metadata": {
        "id": "h8YiBtC6uEVd"
      },
      "source": [
        "from sklearn.ensemble import RandomForestClassifier\n",
        "from sklearn.impute import SimpleImputer\n",
        "from sklearn.pipeline import make_pipeline\n",
        "\n",
        "pipeline = make_pipeline(\n",
        "    ce.OrdinalEncoder(), \n",
        "    SimpleImputer(strategy='median'), \n",
        "    RandomForestClassifier(n_estimators=20, \n",
        "                           random_state=42, \n",
        "                           n_jobs=-1)\n",
        ")\n",
        "\n",
        "# Fit on train, score on val\n",
        "pipeline.fit(X_train, y_train);"
      ],
      "execution_count": null,
      "outputs": []
    },
    {
      "cell_type": "code",
      "metadata": {
        "id": "hB7RBT2CuHho",
        "colab": {
          "base_uri": "https://localhost:8080/",
          "height": 145
        },
        "outputId": "d2609157-2c47-429a-a5b2-712e800e8608"
      },
      "source": [
        "# Get feature importances\n",
        "rf = pipeline.named_steps['randomforestclassifier']\n",
        "importances = pd.Series(rf.feature_importances_, X_train.columns)\n",
        "\n",
        "# Plot feature importances\n",
        "%matplotlib inline\n",
        "import matplotlib.pyplot as plt\n",
        "\n",
        "n = 3\n",
        "plt.figure(figsize=(10,n/2))\n",
        "plt.title(f'Top {n} features')\n",
        "importances.sort_values()[-n:].plot.barh(color='grey');"
      ],
      "execution_count": null,
      "outputs": [
        {
          "output_type": "display_data",
          "data": {
            "image/png": "[encoded data removed]",
            "text/plain": [
              "<Figure size 720x108 with 1 Axes>"
            ]
          },
          "metadata": {
            "tags": [],
            "needs_background": "light"
          }
        }
      ]
    },
    {
      "cell_type": "markdown",
      "metadata": {
        "id": "eVMCv8VmxdMQ"
      },
      "source": [
        "#### Neural Net"
      ]
    },
    {
      "cell_type": "code",
      "metadata": {
        "id": "AIl-iF7xxxfQ"
      },
      "source": [
        "import numpy as np\n",
        "import pandas as pd\n",
        "\n",
        "from keras.models import Sequential\n",
        "from keras.layers import Dense\n",
        "from keras.wrappers.scikit_learn import KerasClassifier\n",
        "from keras.wrappers.scikit_learn import KerasRegressor\n",
        "from sklearn.model_selection import GridSearchCV\n",
        "from sklearn.preprocessing import StandardScaler\n",
        "from sklearn.pipeline import Pipeline\n",
        "from sklearn.model_selection import cross_val_score\n",
        "from sklearn.model_selection import KFold"
      ],
      "execution_count": null,
      "outputs": []
    },
    {
      "cell_type": "code",
      "metadata": {
        "id": "YZVoDV9Kx1jQ",
        "colab": {
          "base_uri": "https://localhost:8080/",
          "height": 419
        },
        "outputId": "19a6ebe0-35eb-4810-f331-f130c8fcb67e"
      },
      "source": [
        "# Binary classification)\n",
        "import pandas as pd\n",
        "from sklearn.preprocessing import StandardScaler\n",
        "\n",
        "df"
      ],
      "execution_count": null,
      "outputs": [
        {
          "output_type": "execute_result",
          "data": {
            "text/html": [
              "<div>\n",
              "<style scoped>\n",
              "    .dataframe tbody tr th:only-of-type {\n",
              "        vertical-align: middle;\n",
              "    }\n",
              "\n",
              "    .dataframe tbody tr th {\n",
              "        vertical-align: top;\n",
              "    }\n",
              "\n",
              "    .dataframe thead th {\n",
              "        text-align: right;\n",
              "    }\n",
              "</style>\n",
              "<table border=\"1\" class=\"dataframe\">\n",
              "  <thead>\n",
              "    <tr style=\"text-align: right;\">\n",
              "      <th></th>\n",
              "      <th>age_at_enrollment</th>\n",
              "      <th>case_members</th>\n",
              "      <th>earned_income</th>\n",
              "      <th>perm_exit</th>\n",
              "    </tr>\n",
              "  </thead>\n",
              "  <tbody>\n",
              "    <tr>\n",
              "      <th>0</th>\n",
              "      <td>4</td>\n",
              "      <td>6</td>\n",
              "      <td>0.0</td>\n",
              "      <td>0</td>\n",
              "    </tr>\n",
              "    <tr>\n",
              "      <th>1</th>\n",
              "      <td>28</td>\n",
              "      <td>6</td>\n",
              "      <td>1300.0</td>\n",
              "      <td>0</td>\n",
              "    </tr>\n",
              "    <tr>\n",
              "      <th>2</th>\n",
              "      <td>10</td>\n",
              "      <td>6</td>\n",
              "      <td>0.0</td>\n",
              "      <td>0</td>\n",
              "    </tr>\n",
              "    <tr>\n",
              "      <th>3</th>\n",
              "      <td>5</td>\n",
              "      <td>6</td>\n",
              "      <td>0.0</td>\n",
              "      <td>0</td>\n",
              "    </tr>\n",
              "    <tr>\n",
              "      <th>4</th>\n",
              "      <td>27</td>\n",
              "      <td>6</td>\n",
              "      <td>1200.0</td>\n",
              "      <td>0</td>\n",
              "    </tr>\n",
              "    <tr>\n",
              "      <th>...</th>\n",
              "      <td>...</td>\n",
              "      <td>...</td>\n",
              "      <td>...</td>\n",
              "      <td>...</td>\n",
              "    </tr>\n",
              "    <tr>\n",
              "      <th>1813</th>\n",
              "      <td>1</td>\n",
              "      <td>3</td>\n",
              "      <td>0.0</td>\n",
              "      <td>0</td>\n",
              "    </tr>\n",
              "    <tr>\n",
              "      <th>1814</th>\n",
              "      <td>34</td>\n",
              "      <td>4</td>\n",
              "      <td>0.0</td>\n",
              "      <td>0</td>\n",
              "    </tr>\n",
              "    <tr>\n",
              "      <th>1815</th>\n",
              "      <td>12</td>\n",
              "      <td>4</td>\n",
              "      <td>0.0</td>\n",
              "      <td>0</td>\n",
              "    </tr>\n",
              "    <tr>\n",
              "      <th>1816</th>\n",
              "      <td>6</td>\n",
              "      <td>4</td>\n",
              "      <td>0.0</td>\n",
              "      <td>0</td>\n",
              "    </tr>\n",
              "    <tr>\n",
              "      <th>1817</th>\n",
              "      <td>16</td>\n",
              "      <td>4</td>\n",
              "      <td>0.0</td>\n",
              "      <td>0</td>\n",
              "    </tr>\n",
              "  </tbody>\n",
              "</table>\n",
              "<p>1818 rows × 4 columns</p>\n",
              "</div>"
            ],
            "text/plain": [
              "      age_at_enrollment  case_members  earned_income perm_exit\n",
              "0                     4             6            0.0         0\n",
              "1                    28             6         1300.0         0\n",
              "2                    10             6            0.0         0\n",
              "3                     5             6            0.0         0\n",
              "4                    27             6         1200.0         0\n",
              "...                 ...           ...            ...       ...\n",
              "1813                  1             3            0.0         0\n",
              "1814                 34             4            0.0         0\n",
              "1815                 12             4            0.0         0\n",
              "1816                  6             4            0.0         0\n",
              "1817                 16             4            0.0         0\n",
              "\n",
              "[1818 rows x 4 columns]"
            ]
          },
          "metadata": {
            "tags": []
          },
          "execution_count": 52
        }
      ]
    },
    {
      "cell_type": "code",
      "metadata": {
        "id": "trFMo9y5yAqu"
      },
      "source": [
        "# Implement a Multilayer Perceptron architecture of your choosing using the Keras library.\n",
        "\n",
        "from tensorflow.keras import Sequential\n",
        "from tensorflow.keras.layers import Dense\n",
        "from tensorflow.keras.optimizers import SGD, Adam\n",
        "\n",
        "def create_model(lr=.01):\n",
        "  opt = SGD(learning_rate=lr)\n",
        "\n",
        "  model3 = Sequential(\n",
        "      [\n",
        "       Dense(32, activation='relu', input_dim=2),\n",
        "       Dense(32, activation='relu'),\n",
        "       Dense(1, activation='sigmoid')       \n",
        "      ]\n",
        ")\n",
        "  model3.compile(optimizer=opt, loss='binary_crossentropy',\n",
        "                metrics=['accuracy'])\n",
        "  return model3"
      ],
      "execution_count": null,
      "outputs": []
    },
    {
      "cell_type": "code",
      "metadata": {
        "id": "8vrcEIg-yELN",
        "colab": {
          "base_uri": "https://localhost:8080/",
          "height": 715
        },
        "outputId": "0e4b9bfc-f822-4324-d703-9a7d3b21fafa"
      },
      "source": [
        "# Train your model\n",
        "model3 = create_model()\n",
        "\n",
        "bt_normal = model3.fit(X_train, y_train, \n",
        "                       epochs=25, \n",
        "                       batch_size=32, \n",
        "                       validation_data=(X_train, y_train))"
      ],
      "execution_count": null,
      "outputs": [
        {
          "output_type": "stream",
          "text": [
            "Epoch 1/25\n"
          ],
          "name": "stdout"
        },
        {
          "output_type": "error",
          "ename": "ValueError",
          "evalue": "ignored",
          "traceback": [
            "\u001b[0;31m---------------------------------------------------------------------------\u001b[0m",
            "\u001b[0;31mValueError\u001b[0m                                Traceback (most recent call last)",
            "\u001b[0;32m<ipython-input-57-78b36c765e2d>\u001b[0m in \u001b[0;36m<module>\u001b[0;34m()\u001b[0m\n\u001b[1;32m      5\u001b[0m                        \u001b[0mepochs\u001b[0m\u001b[0;34m=\u001b[0m\u001b[0;36m25\u001b[0m\u001b[0;34m,\u001b[0m\u001b[0;34m\u001b[0m\u001b[0;34m\u001b[0m\u001b[0m\n\u001b[1;32m      6\u001b[0m                        \u001b[0mbatch_size\u001b[0m\u001b[0;34m=\u001b[0m\u001b[0;36m32\u001b[0m\u001b[0;34m,\u001b[0m\u001b[0;34m\u001b[0m\u001b[0;34m\u001b[0m\u001b[0m\n\u001b[0;32m----> 7\u001b[0;31m                        validation_data=(X_train, y_train))\n\u001b[0m",
            "\u001b[0;32m/usr/local/lib/python3.6/dist-packages/tensorflow/python/keras/engine/training.py\u001b[0m in \u001b[0;36m_method_wrapper\u001b[0;34m(self, *args, **kwargs)\u001b[0m\n\u001b[1;32m    106\u001b[0m   \u001b[0;32mdef\u001b[0m \u001b[0m_method_wrapper\u001b[0m\u001b[0;34m(\u001b[0m\u001b[0mself\u001b[0m\u001b[0;34m,\u001b[0m \u001b[0;34m*\u001b[0m\u001b[0margs\u001b[0m\u001b[0;34m,\u001b[0m \u001b[0;34m**\u001b[0m\u001b[0mkwargs\u001b[0m\u001b[0;34m)\u001b[0m\u001b[0;34m:\u001b[0m\u001b[0;34m\u001b[0m\u001b[0;34m\u001b[0m\u001b[0m\n\u001b[1;32m    107\u001b[0m     \u001b[0;32mif\u001b[0m \u001b[0;32mnot\u001b[0m \u001b[0mself\u001b[0m\u001b[0;34m.\u001b[0m\u001b[0m_in_multi_worker_mode\u001b[0m\u001b[0;34m(\u001b[0m\u001b[0;34m)\u001b[0m\u001b[0;34m:\u001b[0m  \u001b[0;31m# pylint: disable=protected-access\u001b[0m\u001b[0;34m\u001b[0m\u001b[0;34m\u001b[0m\u001b[0m\n\u001b[0;32m--> 108\u001b[0;31m       \u001b[0;32mreturn\u001b[0m \u001b[0mmethod\u001b[0m\u001b[0;34m(\u001b[0m\u001b[0mself\u001b[0m\u001b[0;34m,\u001b[0m \u001b[0;34m*\u001b[0m\u001b[0margs\u001b[0m\u001b[0;34m,\u001b[0m \u001b[0;34m**\u001b[0m\u001b[0mkwargs\u001b[0m\u001b[0;34m)\u001b[0m\u001b[0;34m\u001b[0m\u001b[0;34m\u001b[0m\u001b[0m\n\u001b[0m\u001b[1;32m    109\u001b[0m \u001b[0;34m\u001b[0m\u001b[0m\n\u001b[1;32m    110\u001b[0m     \u001b[0;31m# Running inside `run_distribute_coordinator` already.\u001b[0m\u001b[0;34m\u001b[0m\u001b[0;34m\u001b[0m\u001b[0;34m\u001b[0m\u001b[0m\n",
            "\u001b[0;32m/usr/local/lib/python3.6/dist-packages/tensorflow/python/keras/engine/training.py\u001b[0m in \u001b[0;36mfit\u001b[0;34m(self, x, y, batch_size, epochs, verbose, callbacks, validation_split, validation_data, shuffle, class_weight, sample_weight, initial_epoch, steps_per_epoch, validation_steps, validation_batch_size, validation_freq, max_queue_size, workers, use_multiprocessing)\u001b[0m\n\u001b[1;32m   1096\u001b[0m                 batch_size=batch_size):\n\u001b[1;32m   1097\u001b[0m               \u001b[0mcallbacks\u001b[0m\u001b[0;34m.\u001b[0m\u001b[0mon_train_batch_begin\u001b[0m\u001b[0;34m(\u001b[0m\u001b[0mstep\u001b[0m\u001b[0;34m)\u001b[0m\u001b[0;34m\u001b[0m\u001b[0;34m\u001b[0m\u001b[0m\n\u001b[0;32m-> 1098\u001b[0;31m               \u001b[0mtmp_logs\u001b[0m \u001b[0;34m=\u001b[0m \u001b[0mtrain_function\u001b[0m\u001b[0;34m(\u001b[0m\u001b[0miterator\u001b[0m\u001b[0;34m)\u001b[0m\u001b[0;34m\u001b[0m\u001b[0;34m\u001b[0m\u001b[0m\n\u001b[0m\u001b[1;32m   1099\u001b[0m               \u001b[0;32mif\u001b[0m \u001b[0mdata_handler\u001b[0m\u001b[0;34m.\u001b[0m\u001b[0mshould_sync\u001b[0m\u001b[0;34m:\u001b[0m\u001b[0;34m\u001b[0m\u001b[0;34m\u001b[0m\u001b[0m\n\u001b[1;32m   1100\u001b[0m                 \u001b[0mcontext\u001b[0m\u001b[0;34m.\u001b[0m\u001b[0masync_wait\u001b[0m\u001b[0;34m(\u001b[0m\u001b[0;34m)\u001b[0m\u001b[0;34m\u001b[0m\u001b[0;34m\u001b[0m\u001b[0m\n",
            "\u001b[0;32m/usr/local/lib/python3.6/dist-packages/tensorflow/python/eager/def_function.py\u001b[0m in \u001b[0;36m__call__\u001b[0;34m(self, *args, **kwds)\u001b[0m\n\u001b[1;32m    778\u001b[0m       \u001b[0;32melse\u001b[0m\u001b[0;34m:\u001b[0m\u001b[0;34m\u001b[0m\u001b[0;34m\u001b[0m\u001b[0m\n\u001b[1;32m    779\u001b[0m         \u001b[0mcompiler\u001b[0m \u001b[0;34m=\u001b[0m \u001b[0;34m\"nonXla\"\u001b[0m\u001b[0;34m\u001b[0m\u001b[0;34m\u001b[0m\u001b[0m\n\u001b[0;32m--> 780\u001b[0;31m         \u001b[0mresult\u001b[0m \u001b[0;34m=\u001b[0m \u001b[0mself\u001b[0m\u001b[0;34m.\u001b[0m\u001b[0m_call\u001b[0m\u001b[0;34m(\u001b[0m\u001b[0;34m*\u001b[0m\u001b[0margs\u001b[0m\u001b[0;34m,\u001b[0m \u001b[0;34m**\u001b[0m\u001b[0mkwds\u001b[0m\u001b[0;34m)\u001b[0m\u001b[0;34m\u001b[0m\u001b[0;34m\u001b[0m\u001b[0m\n\u001b[0m\u001b[1;32m    781\u001b[0m \u001b[0;34m\u001b[0m\u001b[0m\n\u001b[1;32m    782\u001b[0m       \u001b[0mnew_tracing_count\u001b[0m \u001b[0;34m=\u001b[0m \u001b[0mself\u001b[0m\u001b[0;34m.\u001b[0m\u001b[0m_get_tracing_count\u001b[0m\u001b[0;34m(\u001b[0m\u001b[0;34m)\u001b[0m\u001b[0;34m\u001b[0m\u001b[0;34m\u001b[0m\u001b[0m\n",
            "\u001b[0;32m/usr/local/lib/python3.6/dist-packages/tensorflow/python/eager/def_function.py\u001b[0m in \u001b[0;36m_call\u001b[0;34m(self, *args, **kwds)\u001b[0m\n\u001b[1;32m    821\u001b[0m       \u001b[0;31m# This is the first call of __call__, so we have to initialize.\u001b[0m\u001b[0;34m\u001b[0m\u001b[0;34m\u001b[0m\u001b[0;34m\u001b[0m\u001b[0m\n\u001b[1;32m    822\u001b[0m       \u001b[0minitializers\u001b[0m \u001b[0;34m=\u001b[0m \u001b[0;34m[\u001b[0m\u001b[0;34m]\u001b[0m\u001b[0;34m\u001b[0m\u001b[0;34m\u001b[0m\u001b[0m\n\u001b[0;32m--> 823\u001b[0;31m       \u001b[0mself\u001b[0m\u001b[0;34m.\u001b[0m\u001b[0m_initialize\u001b[0m\u001b[0;34m(\u001b[0m\u001b[0margs\u001b[0m\u001b[0;34m,\u001b[0m \u001b[0mkwds\u001b[0m\u001b[0;34m,\u001b[0m \u001b[0madd_initializers_to\u001b[0m\u001b[0;34m=\u001b[0m\u001b[0minitializers\u001b[0m\u001b[0;34m)\u001b[0m\u001b[0;34m\u001b[0m\u001b[0;34m\u001b[0m\u001b[0m\n\u001b[0m\u001b[1;32m    824\u001b[0m     \u001b[0;32mfinally\u001b[0m\u001b[0;34m:\u001b[0m\u001b[0;34m\u001b[0m\u001b[0;34m\u001b[0m\u001b[0m\n\u001b[1;32m    825\u001b[0m       \u001b[0;31m# At this point we know that the initialization is complete (or less\u001b[0m\u001b[0;34m\u001b[0m\u001b[0;34m\u001b[0m\u001b[0;34m\u001b[0m\u001b[0m\n",
            "\u001b[0;32m/usr/local/lib/python3.6/dist-packages/tensorflow/python/eager/def_function.py\u001b[0m in \u001b[0;36m_initialize\u001b[0;34m(self, args, kwds, add_initializers_to)\u001b[0m\n\u001b[1;32m    695\u001b[0m     self._concrete_stateful_fn = (\n\u001b[1;32m    696\u001b[0m         self._stateful_fn._get_concrete_function_internal_garbage_collected(  # pylint: disable=protected-access\n\u001b[0;32m--> 697\u001b[0;31m             *args, **kwds))\n\u001b[0m\u001b[1;32m    698\u001b[0m \u001b[0;34m\u001b[0m\u001b[0m\n\u001b[1;32m    699\u001b[0m     \u001b[0;32mdef\u001b[0m \u001b[0minvalid_creator_scope\u001b[0m\u001b[0;34m(\u001b[0m\u001b[0;34m*\u001b[0m\u001b[0munused_args\u001b[0m\u001b[0;34m,\u001b[0m \u001b[0;34m**\u001b[0m\u001b[0munused_kwds\u001b[0m\u001b[0;34m)\u001b[0m\u001b[0;34m:\u001b[0m\u001b[0;34m\u001b[0m\u001b[0;34m\u001b[0m\u001b[0m\n",
            "\u001b[0;32m/usr/local/lib/python3.6/dist-packages/tensorflow/python/eager/function.py\u001b[0m in \u001b[0;36m_get_concrete_function_internal_garbage_collected\u001b[0;34m(self, *args, **kwargs)\u001b[0m\n\u001b[1;32m   2853\u001b[0m       \u001b[0margs\u001b[0m\u001b[0;34m,\u001b[0m \u001b[0mkwargs\u001b[0m \u001b[0;34m=\u001b[0m \u001b[0;32mNone\u001b[0m\u001b[0;34m,\u001b[0m \u001b[0;32mNone\u001b[0m\u001b[0;34m\u001b[0m\u001b[0;34m\u001b[0m\u001b[0m\n\u001b[1;32m   2854\u001b[0m     \u001b[0;32mwith\u001b[0m \u001b[0mself\u001b[0m\u001b[0;34m.\u001b[0m\u001b[0m_lock\u001b[0m\u001b[0;34m:\u001b[0m\u001b[0;34m\u001b[0m\u001b[0;34m\u001b[0m\u001b[0m\n\u001b[0;32m-> 2855\u001b[0;31m       \u001b[0mgraph_function\u001b[0m\u001b[0;34m,\u001b[0m \u001b[0m_\u001b[0m\u001b[0;34m,\u001b[0m \u001b[0m_\u001b[0m \u001b[0;34m=\u001b[0m \u001b[0mself\u001b[0m\u001b[0;34m.\u001b[0m\u001b[0m_maybe_define_function\u001b[0m\u001b[0;34m(\u001b[0m\u001b[0margs\u001b[0m\u001b[0;34m,\u001b[0m \u001b[0mkwargs\u001b[0m\u001b[0;34m)\u001b[0m\u001b[0;34m\u001b[0m\u001b[0;34m\u001b[0m\u001b[0m\n\u001b[0m\u001b[1;32m   2856\u001b[0m     \u001b[0;32mreturn\u001b[0m \u001b[0mgraph_function\u001b[0m\u001b[0;34m\u001b[0m\u001b[0;34m\u001b[0m\u001b[0m\n\u001b[1;32m   2857\u001b[0m \u001b[0;34m\u001b[0m\u001b[0m\n",
            "\u001b[0;32m/usr/local/lib/python3.6/dist-packages/tensorflow/python/eager/function.py\u001b[0m in \u001b[0;36m_maybe_define_function\u001b[0;34m(self, args, kwargs)\u001b[0m\n\u001b[1;32m   3211\u001b[0m \u001b[0;34m\u001b[0m\u001b[0m\n\u001b[1;32m   3212\u001b[0m       \u001b[0mself\u001b[0m\u001b[0;34m.\u001b[0m\u001b[0m_function_cache\u001b[0m\u001b[0;34m.\u001b[0m\u001b[0mmissed\u001b[0m\u001b[0;34m.\u001b[0m\u001b[0madd\u001b[0m\u001b[0;34m(\u001b[0m\u001b[0mcall_context_key\u001b[0m\u001b[0;34m)\u001b[0m\u001b[0;34m\u001b[0m\u001b[0;34m\u001b[0m\u001b[0m\n\u001b[0;32m-> 3213\u001b[0;31m       \u001b[0mgraph_function\u001b[0m \u001b[0;34m=\u001b[0m \u001b[0mself\u001b[0m\u001b[0;34m.\u001b[0m\u001b[0m_create_graph_function\u001b[0m\u001b[0;34m(\u001b[0m\u001b[0margs\u001b[0m\u001b[0;34m,\u001b[0m \u001b[0mkwargs\u001b[0m\u001b[0;34m)\u001b[0m\u001b[0;34m\u001b[0m\u001b[0;34m\u001b[0m\u001b[0m\n\u001b[0m\u001b[1;32m   3214\u001b[0m       \u001b[0mself\u001b[0m\u001b[0;34m.\u001b[0m\u001b[0m_function_cache\u001b[0m\u001b[0;34m.\u001b[0m\u001b[0mprimary\u001b[0m\u001b[0;34m[\u001b[0m\u001b[0mcache_key\u001b[0m\u001b[0;34m]\u001b[0m \u001b[0;34m=\u001b[0m \u001b[0mgraph_function\u001b[0m\u001b[0;34m\u001b[0m\u001b[0;34m\u001b[0m\u001b[0m\n\u001b[1;32m   3215\u001b[0m       \u001b[0;32mreturn\u001b[0m \u001b[0mgraph_function\u001b[0m\u001b[0;34m,\u001b[0m \u001b[0margs\u001b[0m\u001b[0;34m,\u001b[0m \u001b[0mkwargs\u001b[0m\u001b[0;34m\u001b[0m\u001b[0;34m\u001b[0m\u001b[0m\n",
            "\u001b[0;32m/usr/local/lib/python3.6/dist-packages/tensorflow/python/eager/function.py\u001b[0m in \u001b[0;36m_create_graph_function\u001b[0;34m(self, args, kwargs, override_flat_arg_shapes)\u001b[0m\n\u001b[1;32m   3073\u001b[0m             \u001b[0marg_names\u001b[0m\u001b[0;34m=\u001b[0m\u001b[0marg_names\u001b[0m\u001b[0;34m,\u001b[0m\u001b[0;34m\u001b[0m\u001b[0;34m\u001b[0m\u001b[0m\n\u001b[1;32m   3074\u001b[0m             \u001b[0moverride_flat_arg_shapes\u001b[0m\u001b[0;34m=\u001b[0m\u001b[0moverride_flat_arg_shapes\u001b[0m\u001b[0;34m,\u001b[0m\u001b[0;34m\u001b[0m\u001b[0;34m\u001b[0m\u001b[0m\n\u001b[0;32m-> 3075\u001b[0;31m             capture_by_value=self._capture_by_value),\n\u001b[0m\u001b[1;32m   3076\u001b[0m         \u001b[0mself\u001b[0m\u001b[0;34m.\u001b[0m\u001b[0m_function_attributes\u001b[0m\u001b[0;34m,\u001b[0m\u001b[0;34m\u001b[0m\u001b[0;34m\u001b[0m\u001b[0m\n\u001b[1;32m   3077\u001b[0m         \u001b[0mfunction_spec\u001b[0m\u001b[0;34m=\u001b[0m\u001b[0mself\u001b[0m\u001b[0;34m.\u001b[0m\u001b[0mfunction_spec\u001b[0m\u001b[0;34m,\u001b[0m\u001b[0;34m\u001b[0m\u001b[0;34m\u001b[0m\u001b[0m\n",
            "\u001b[0;32m/usr/local/lib/python3.6/dist-packages/tensorflow/python/framework/func_graph.py\u001b[0m in \u001b[0;36mfunc_graph_from_py_func\u001b[0;34m(name, python_func, args, kwargs, signature, func_graph, autograph, autograph_options, add_control_dependencies, arg_names, op_return_value, collections, capture_by_value, override_flat_arg_shapes)\u001b[0m\n\u001b[1;32m    984\u001b[0m         \u001b[0m_\u001b[0m\u001b[0;34m,\u001b[0m \u001b[0moriginal_func\u001b[0m \u001b[0;34m=\u001b[0m \u001b[0mtf_decorator\u001b[0m\u001b[0;34m.\u001b[0m\u001b[0munwrap\u001b[0m\u001b[0;34m(\u001b[0m\u001b[0mpython_func\u001b[0m\u001b[0;34m)\u001b[0m\u001b[0;34m\u001b[0m\u001b[0;34m\u001b[0m\u001b[0m\n\u001b[1;32m    985\u001b[0m \u001b[0;34m\u001b[0m\u001b[0m\n\u001b[0;32m--> 986\u001b[0;31m       \u001b[0mfunc_outputs\u001b[0m \u001b[0;34m=\u001b[0m \u001b[0mpython_func\u001b[0m\u001b[0;34m(\u001b[0m\u001b[0;34m*\u001b[0m\u001b[0mfunc_args\u001b[0m\u001b[0;34m,\u001b[0m \u001b[0;34m**\u001b[0m\u001b[0mfunc_kwargs\u001b[0m\u001b[0;34m)\u001b[0m\u001b[0;34m\u001b[0m\u001b[0;34m\u001b[0m\u001b[0m\n\u001b[0m\u001b[1;32m    987\u001b[0m \u001b[0;34m\u001b[0m\u001b[0m\n\u001b[1;32m    988\u001b[0m       \u001b[0;31m# invariant: `func_outputs` contains only Tensors, CompositeTensors,\u001b[0m\u001b[0;34m\u001b[0m\u001b[0;34m\u001b[0m\u001b[0;34m\u001b[0m\u001b[0m\n",
            "\u001b[0;32m/usr/local/lib/python3.6/dist-packages/tensorflow/python/eager/def_function.py\u001b[0m in \u001b[0;36mwrapped_fn\u001b[0;34m(*args, **kwds)\u001b[0m\n\u001b[1;32m    598\u001b[0m         \u001b[0;31m# __wrapped__ allows AutoGraph to swap in a converted function. We give\u001b[0m\u001b[0;34m\u001b[0m\u001b[0;34m\u001b[0m\u001b[0;34m\u001b[0m\u001b[0m\n\u001b[1;32m    599\u001b[0m         \u001b[0;31m# the function a weak reference to itself to avoid a reference cycle.\u001b[0m\u001b[0;34m\u001b[0m\u001b[0;34m\u001b[0m\u001b[0;34m\u001b[0m\u001b[0m\n\u001b[0;32m--> 600\u001b[0;31m         \u001b[0;32mreturn\u001b[0m \u001b[0mweak_wrapped_fn\u001b[0m\u001b[0;34m(\u001b[0m\u001b[0;34m)\u001b[0m\u001b[0;34m.\u001b[0m\u001b[0m__wrapped__\u001b[0m\u001b[0;34m(\u001b[0m\u001b[0;34m*\u001b[0m\u001b[0margs\u001b[0m\u001b[0;34m,\u001b[0m \u001b[0;34m**\u001b[0m\u001b[0mkwds\u001b[0m\u001b[0;34m)\u001b[0m\u001b[0;34m\u001b[0m\u001b[0;34m\u001b[0m\u001b[0m\n\u001b[0m\u001b[1;32m    601\u001b[0m     \u001b[0mweak_wrapped_fn\u001b[0m \u001b[0;34m=\u001b[0m \u001b[0mweakref\u001b[0m\u001b[0;34m.\u001b[0m\u001b[0mref\u001b[0m\u001b[0;34m(\u001b[0m\u001b[0mwrapped_fn\u001b[0m\u001b[0;34m)\u001b[0m\u001b[0;34m\u001b[0m\u001b[0;34m\u001b[0m\u001b[0m\n\u001b[1;32m    602\u001b[0m \u001b[0;34m\u001b[0m\u001b[0m\n",
            "\u001b[0;32m/usr/local/lib/python3.6/dist-packages/tensorflow/python/framework/func_graph.py\u001b[0m in \u001b[0;36mwrapper\u001b[0;34m(*args, **kwargs)\u001b[0m\n\u001b[1;32m    971\u001b[0m           \u001b[0;32mexcept\u001b[0m \u001b[0mException\u001b[0m \u001b[0;32mas\u001b[0m \u001b[0me\u001b[0m\u001b[0;34m:\u001b[0m  \u001b[0;31m# pylint:disable=broad-except\u001b[0m\u001b[0;34m\u001b[0m\u001b[0;34m\u001b[0m\u001b[0m\n\u001b[1;32m    972\u001b[0m             \u001b[0;32mif\u001b[0m \u001b[0mhasattr\u001b[0m\u001b[0;34m(\u001b[0m\u001b[0me\u001b[0m\u001b[0;34m,\u001b[0m \u001b[0;34m\"ag_error_metadata\"\u001b[0m\u001b[0;34m)\u001b[0m\u001b[0;34m:\u001b[0m\u001b[0;34m\u001b[0m\u001b[0;34m\u001b[0m\u001b[0m\n\u001b[0;32m--> 973\u001b[0;31m               \u001b[0;32mraise\u001b[0m \u001b[0me\u001b[0m\u001b[0;34m.\u001b[0m\u001b[0mag_error_metadata\u001b[0m\u001b[0;34m.\u001b[0m\u001b[0mto_exception\u001b[0m\u001b[0;34m(\u001b[0m\u001b[0me\u001b[0m\u001b[0;34m)\u001b[0m\u001b[0;34m\u001b[0m\u001b[0;34m\u001b[0m\u001b[0m\n\u001b[0m\u001b[1;32m    974\u001b[0m             \u001b[0;32melse\u001b[0m\u001b[0;34m:\u001b[0m\u001b[0;34m\u001b[0m\u001b[0;34m\u001b[0m\u001b[0m\n\u001b[1;32m    975\u001b[0m               \u001b[0;32mraise\u001b[0m\u001b[0;34m\u001b[0m\u001b[0;34m\u001b[0m\u001b[0m\n",
            "\u001b[0;31mValueError\u001b[0m: in user code:\n\n    /usr/local/lib/python3.6/dist-packages/tensorflow/python/keras/engine/training.py:806 train_function  *\n        return step_function(self, iterator)\n    /usr/local/lib/python3.6/dist-packages/tensorflow/python/keras/engine/training.py:796 step_function  **\n        outputs = model.distribute_strategy.run(run_step, args=(data,))\n    /usr/local/lib/python3.6/dist-packages/tensorflow/python/distribute/distribute_lib.py:1211 run\n        return self._extended.call_for_each_replica(fn, args=args, kwargs=kwargs)\n    /usr/local/lib/python3.6/dist-packages/tensorflow/python/distribute/distribute_lib.py:2585 call_for_each_replica\n        return self._call_for_each_replica(fn, args, kwargs)\n    /usr/local/lib/python3.6/dist-packages/tensorflow/python/distribute/distribute_lib.py:2945 _call_for_each_replica\n        return fn(*args, **kwargs)\n    /usr/local/lib/python3.6/dist-packages/tensorflow/python/keras/engine/training.py:789 run_step  **\n        outputs = model.train_step(data)\n    /usr/local/lib/python3.6/dist-packages/tensorflow/python/keras/engine/training.py:747 train_step\n        y_pred = self(x, training=True)\n    /usr/local/lib/python3.6/dist-packages/tensorflow/python/keras/engine/base_layer.py:976 __call__\n        self.name)\n    /usr/local/lib/python3.6/dist-packages/tensorflow/python/keras/engine/input_spec.py:216 assert_input_compatibility\n        ' but received input with shape ' + str(shape))\n\n    ValueError: Input 0 of layer sequential_5 is incompatible with the layer: expected axis -1 of input shape to have value 2 but received input with shape [None, 3]\n"
          ]
        }
      ]
    }
  ]
}